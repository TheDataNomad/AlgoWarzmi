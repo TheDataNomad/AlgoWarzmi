{
 "cells": [
  {
   "cell_type": "code",
   "execution_count": 1,
   "id": "mature-eagle",
   "metadata": {},
   "outputs": [],
   "source": [
    "#Don't Touch this is for scoring purposes\n",
    "from Scoring import *"
   ]
  },
  {
   "cell_type": "code",
   "execution_count": null,
   "id": "76975587",
   "metadata": {},
   "outputs": [],
   "source": []
  },
  {
   "cell_type": "code",
   "execution_count": null,
   "id": "b386c4c8",
   "metadata": {},
   "outputs": [],
   "source": []
  },
  {
   "cell_type": "code",
   "execution_count": null,
   "id": "6912b6fe",
   "metadata": {},
   "outputs": [],
   "source": []
  },
  {
   "cell_type": "markdown",
   "id": "alive-reservoir",
   "metadata": {},
   "source": [
    "#### Comments"
   ]
  },
  {
   "cell_type": "markdown",
   "id": "621317b8",
   "metadata": {},
   "source": []
  },
  {
   "cell_type": "code",
   "execution_count": null,
   "id": "amateur-purpose",
   "metadata": {},
   "outputs": [],
   "source": [
    "#This is how you make a single line comment \n",
    "\n",
    "\"\"\"\n",
    "This is how you can make multiple lines of \n",
    "comments.\n",
    "Line 3\n",
    "Line 5\n",
    "\"\"\"\n",
    "\n",
    "\n",
    "\"\"\"\n",
    "hdjkladfdf dfjdskf \n",
    "dfads \n",
    "\"\"\"\n",
    "\n",
    "variable = 10 #You can make a single line comment after the code "
   ]
  },
  {
   "cell_type": "code",
   "execution_count": null,
   "id": "798addee",
   "metadata": {},
   "outputs": [],
   "source": []
  },
  {
   "cell_type": "markdown",
   "id": "nominated-desperate",
   "metadata": {},
   "source": [
    "#### Variable declaration"
   ]
  },
  {
   "cell_type": "code",
   "execution_count": null,
   "id": "vanilla-sheep",
   "metadata": {},
   "outputs": [],
   "source": [
    "#printing \n",
    "\n",
    "#Tab\n",
    "print(\"This is a normal line written by Ahmed\")\n",
    "print(\"\\tThis is a line with a tab\")\n",
    "\n",
    "# #new line\n",
    "print(\"This is line 1 \\nThis is line 2 \\nThis is line 3\")\n",
    "\n",
    "\n",
    "print(\"AlMulham said \\\"this is good\\\" \")\n",
    "print(' Said \"this\" ')"
   ]
  },
  {
   "cell_type": "markdown",
   "id": "pressing-digest",
   "metadata": {},
   "source": [
    "10 -> Integer\n",
    "\n",
    "10.0 -> decimals (float) \n",
    "\n",
    "Ahmed -> String (charecters and words)"
   ]
  },
  {
   "cell_type": "code",
   "execution_count": null,
   "id": "supreme-going",
   "metadata": {},
   "outputs": [],
   "source": [
    "value1 = 10\n",
    "value2 = 20\n",
    "\n",
    "print(\"First declaration\")\n",
    "print(value1)\n",
    "print(value2)\n",
    "\n",
    "print(\"\\nSecond declaration\")\n",
    "value1 = 20\n",
    "print(value1)\n",
    "print(value2)\n",
    "\n",
    "print(\"\\nThird declaration\")\n",
    "value2 = \"String 20\"\n",
    "print(value1)\n",
    "print(value2)\n",
    "\n",
    "\n",
    "# print(\"Hello World\")"
   ]
  },
  {
   "cell_type": "markdown",
   "id": "hungry-mattress",
   "metadata": {},
   "source": [
    "Question: 3 + 7 = 10"
   ]
  },
  {
   "cell_type": "code",
   "execution_count": null,
   "id": "diagnostic-potential",
   "metadata": {},
   "outputs": [],
   "source": [
    "#formating a print with strings\n",
    "\n",
    "# We want the output to be line this \"Question: 3 + 7 = 10\"\n",
    "\n",
    "ahmed_age = 3 + 7\n",
    "\n",
    "\n",
    "print(\"Question: 3 + 7 = \" + str(ahmed_age))\n",
    "print(\"Question: 3 + 7 =\",ahmed_age)\n",
    "print(f\"Question: 3 + 7 = {ahmed_age}\")\n",
    "\n",
    "print(\"---------------------\")\n",
    "\n",
    "value1 = 3\n",
    "value2 = 11\n",
    "var = value1 + value2\n",
    "\n",
    "\n",
    "\n",
    "print(f\"Question: {value1} + {value2} = {var} ,,,,, \")\n",
    "print(\"Question: {} + {} = {}\".format(value1,value2,var))"
   ]
  },
  {
   "cell_type": "code",
   "execution_count": null,
   "id": "f91013c0",
   "metadata": {},
   "outputs": [],
   "source": []
  },
  {
   "cell_type": "code",
   "execution_count": null,
   "id": "cdc2fcd2",
   "metadata": {},
   "outputs": [],
   "source": []
  },
  {
   "cell_type": "markdown",
   "id": "naked-watershed",
   "metadata": {},
   "source": [
    "### **Task 1** \n",
    "Create two variables **var1** and assign it to an Integer and **var2** and assign it to a string"
   ]
  },
  {
   "cell_type": "code",
   "execution_count": null,
   "id": "prostate-notification",
   "metadata": {},
   "outputs": [],
   "source": [
    "#Write your code here:\n",
    "\n",
    "\n",
    "var1 = 10\n",
    "var2 = \"Ahmed\"\n",
    "\n",
    "### Don't Touch this, this is to check if your code is correct ###\n",
    "taskOneScore = AllIntegers(\"var1\",globals()) + AllStrings(\"var2\",globals())"
   ]
  },
  {
   "cell_type": "markdown",
   "id": "vertical-republican",
   "metadata": {},
   "source": [
    "#### Arithmetic Operations"
   ]
  },
  {
   "cell_type": "code",
   "execution_count": 2,
   "id": "median-symposium",
   "metadata": {},
   "outputs": [
    {
     "name": "stdout",
     "output_type": "stream",
     "text": [
      "30\n"
     ]
    }
   ],
   "source": [
    "# Adding \n",
    "value1 = 10\n",
    "value2 = 20\n",
    "\n",
    "answer = value1 + value2\n",
    "\n",
    "print(answer)"
   ]
  },
  {
   "cell_type": "code",
   "execution_count": 3,
   "id": "relevant-action",
   "metadata": {},
   "outputs": [
    {
     "name": "stdout",
     "output_type": "stream",
     "text": [
      "Hello World\n"
     ]
    }
   ],
   "source": [
    "print(\"Hello World\")"
   ]
  },
  {
   "cell_type": "code",
   "execution_count": null,
   "id": "b18a1334",
   "metadata": {},
   "outputs": [],
   "source": []
  },
  {
   "cell_type": "code",
   "execution_count": 99,
   "id": "acute-trout",
   "metadata": {},
   "outputs": [
    {
     "name": "stdout",
     "output_type": "stream",
     "text": [
      "Hello World\n"
     ]
    }
   ],
   "source": [
    "#Strings \n",
    "string1 = \"Hello\"\n",
    "string2 = \"World\"\n",
    "\n",
    "addedString = string1 + \" \" + string2\n",
    "print(addedString)"
   ]
  },
  {
   "cell_type": "code",
   "execution_count": 21,
   "id": "banner-morocco",
   "metadata": {},
   "outputs": [
    {
     "name": "stdout",
     "output_type": "stream",
     "text": [
      "5.0\n",
      "20\n",
      "9765625\n",
      "4294967296\n"
     ]
    },
    {
     "ename": "ZeroDivisionError",
     "evalue": "division by zero",
     "output_type": "error",
     "traceback": [
      "\u001b[0;31m---------------------------------------------------------------------------\u001b[0m",
      "\u001b[0;31mZeroDivisionError\u001b[0m                         Traceback (most recent call last)",
      "\u001b[0;32m/var/folders/7c/nyfdc13n4yg1cxmg2b4txxqc0000gn/T/ipykernel_27973/3474267078.py\u001b[0m in \u001b[0;36m<module>\u001b[0;34m\u001b[0m\n\u001b[1;32m     10\u001b[0m \u001b[0;34m\u001b[0m\u001b[0m\n\u001b[1;32m     11\u001b[0m \u001b[0;31m# #ZeroDivisionError\u001b[0m\u001b[0;34m\u001b[0m\u001b[0;34m\u001b[0m\u001b[0m\n\u001b[0;32m---> 12\u001b[0;31m \u001b[0;36m10\u001b[0m\u001b[0;34m/\u001b[0m\u001b[0;36m0\u001b[0m\u001b[0;34m\u001b[0m\u001b[0;34m\u001b[0m\u001b[0m\n\u001b[0m",
      "\u001b[0;31mZeroDivisionError\u001b[0m: division by zero"
     ]
    }
   ],
   "source": [
    "# Multiplication and Division \n",
    "\n",
    "print(20 / 4)\n",
    "print(4 * 5)\n",
    "\n",
    "# # power\n",
    "\n",
    "print(5*5*5*5*5*5*5*5*5*5)\n",
    "print(2**32)\n",
    "\n",
    "#ZeroDivisionError \n",
    "10/0"
   ]
  },
  {
   "cell_type": "markdown",
   "id": "alike-mouth",
   "metadata": {},
   "source": [
    "11/4 = 2 3/4"
   ]
  },
  {
   "cell_type": "code",
   "execution_count": 25,
   "id": "tough-italian",
   "metadata": {},
   "outputs": [
    {
     "data": {
      "text/plain": [
       "3"
      ]
     },
     "execution_count": 25,
     "metadata": {},
     "output_type": "execute_result"
    }
   ],
   "source": [
    "x % num == remainder "
   ]
  },
  {
   "cell_type": "markdown",
   "id": "accessible-bolivia",
   "metadata": {},
   "source": [
    "### Task 2\n",
    "Complete the following code with correct values so that it prints correctly \"This is odd\""
   ]
  },
  {
   "cell_type": "code",
   "execution_count": 28,
   "id": "committed-prospect",
   "metadata": {},
   "outputs": [
    {
     "name": "stdout",
     "output_type": "stream",
     "text": [
      "Your answer is correct and 2345244 is even\n"
     ]
    }
   ],
   "source": [
    "#Modulus \n",
    "num =  2# Enter the correct value here\n",
    "remainder = 1  # Enter the correct value here\n",
    "\n",
    "random_number = 2345244# enter any number\n",
    "\n",
    "### don't change this below ###\n",
    "taskTwoScore = TaskTwo(random_number,num,remainder)"
   ]
  },
  {
   "cell_type": "code",
   "execution_count": 33,
   "id": "collected-blues",
   "metadata": {},
   "outputs": [
    {
     "data": {
      "text/plain": [
       "list"
      ]
     },
     "execution_count": 33,
     "metadata": {},
     "output_type": "execute_result"
    }
   ],
   "source": []
  },
  {
   "cell_type": "markdown",
   "id": "coupled-decline",
   "metadata": {},
   "source": [
    "# Lists"
   ]
  },
  {
   "cell_type": "code",
   "execution_count": null,
   "id": "balanced-monitoring",
   "metadata": {},
   "outputs": [],
   "source": [
    "#Talk about not to use list = "
   ]
  },
  {
   "cell_type": "code",
   "execution_count": null,
   "id": "38c8f486",
   "metadata": {},
   "outputs": [],
   "source": []
  },
  {
   "cell_type": "code",
   "execution_count": 41,
   "id": "limited-mexico",
   "metadata": {},
   "outputs": [],
   "source": [
    "#Declaring lists\n",
    "\n",
    "ListOne = [1,2,3,4,10,3,1,100,20,30,1]\n",
    "ListTwo = [5,6,7,8]\n",
    "ListThree = [\"Ahmed\",\"Mohammed\",7,\"Hamood\",\"Nasser\", 5]\n",
    "\n"
   ]
  },
  {
   "cell_type": "code",
   "execution_count": null,
   "id": "latter-angel",
   "metadata": {},
   "outputs": [],
   "source": [
    "ages = [15,16,15,20,26,17,16,14,18,20,20,20,15,15,7]"
   ]
  },
  {
   "cell_type": "code",
   "execution_count": 44,
   "id": "liquid-picnic",
   "metadata": {},
   "outputs": [],
   "source": [
    "x = [1,2,3,4,3,23,23,4,2,3,4,5,4,3]\n",
    "y = [5,6,7,8]\n",
    "\n",
    "#Show them to Python Tutor pythontutor.com\n",
    "#x -> id1 \n",
    "#y -> id2\n",
    "\n",
    "# id1 ->  [1,2,3,4]\n",
    "# id2 -> [5,6,7,8]"
   ]
  },
  {
   "cell_type": "code",
   "execution_count": 45,
   "id": "superb-shelter",
   "metadata": {},
   "outputs": [
    {
     "name": "stdout",
     "output_type": "stream",
     "text": [
      "Before appending [5, 6, 7, 8]\n",
      "After appending [5, 6, 7, 8, 5]\n"
     ]
    }
   ],
   "source": [
    "#Append Method\n",
    "print(\"Before appending\", y)\n",
    "\n",
    "y.append(5)\n",
    "print(\"After appending\", y)\n"
   ]
  },
  {
   "cell_type": "code",
   "execution_count": 48,
   "id": "national-coral",
   "metadata": {},
   "outputs": [
    {
     "name": "stdout",
     "output_type": "stream",
     "text": [
      "[1, 2, 3, 4, 3, 23, 23, 4, 2, 3, 4, 5, 4, 3]\n"
     ]
    },
    {
     "data": {
      "text/plain": [
       "2"
      ]
     },
     "execution_count": 48,
     "metadata": {},
     "output_type": "execute_result"
    }
   ],
   "source": [
    "#Count Method\n",
    "print(x)\n",
    "x.count(23)"
   ]
  },
  {
   "cell_type": "code",
   "execution_count": 54,
   "id": "2f1534f2",
   "metadata": {},
   "outputs": [
    {
     "data": {
      "text/plain": [
       "[1, 2, 3, 4, 3, 23, 23, 4, 2, 3, 4, 5, 4, 3]"
      ]
     },
     "execution_count": 54,
     "metadata": {},
     "output_type": "execute_result"
    }
   ],
   "source": [
    "x[]"
   ]
  },
  {
   "cell_type": "code",
   "execution_count": 50,
   "id": "continued-fitness",
   "metadata": {},
   "outputs": [
    {
     "data": {
      "text/plain": [
       "11"
      ]
     },
     "execution_count": 50,
     "metadata": {},
     "output_type": "execute_result"
    }
   ],
   "source": [
    "#len function\n",
    "\n",
    "len(\"Ahmed Manji\")"
   ]
  },
  {
   "cell_type": "code",
   "execution_count": null,
   "id": "mighty-ceremony",
   "metadata": {},
   "outputs": [],
   "source": [
    "y= sorted(x)"
   ]
  },
  {
   "cell_type": "code",
   "execution_count": 51,
   "id": "careful-organic",
   "metadata": {},
   "outputs": [
    {
     "name": "stdout",
     "output_type": "stream",
     "text": [
      "[1, 2, 3, 4, 10, 3, 1, 100, 20, 30, 1]\n",
      "\n",
      "Sorted function:\n",
      "[1, 1, 1, 2, 3, 3, 4, 10, 20, 30, 100]\n",
      "[1, 2, 3, 4, 10, 3, 1, 100, 20, 30, 1]\n",
      "\n",
      "Sort method:\n",
      "None\n",
      "[1, 1, 1, 2, 3, 3, 4, 10, 20, 30, 100]\n"
     ]
    }
   ],
   "source": [
    "# List Methods\n",
    "print(ListOne)\n",
    "print(\"\\nSorted function:\")\n",
    "print(sorted(ListOne))\n",
    "\n",
    "print(ListOne)\n",
    "print(\"\\nSort method:\")\n",
    "print(ListOne.sort())\n",
    "print(ListOne)"
   ]
  },
  {
   "cell_type": "code",
   "execution_count": 55,
   "id": "proprietary-oxide",
   "metadata": {},
   "outputs": [
    {
     "name": "stdout",
     "output_type": "stream",
     "text": [
      "1 4 3\n"
     ]
    }
   ],
   "source": [
    "#Indexing \n",
    "#why this wrong\n",
    "#x[14]   # Because the indices start from zero\n",
    "\n",
    "first = x[0]\n",
    "middle = x[7]\n",
    "last = x[13]\n",
    "\n",
    "print(first,middle,last)"
   ]
  },
  {
   "cell_type": "markdown",
   "id": "legendary-healing",
   "metadata": {},
   "source": [
    "<h1 align=\"center\"> Index Numbers </h1>\n",
    "<img src=\"indexing.jpg\" width=\"400\"/>\n",
    "<br>"
   ]
  },
  {
   "cell_type": "code",
   "execution_count": 57,
   "id": "introductory-radical",
   "metadata": {},
   "outputs": [
    {
     "name": "stdout",
     "output_type": "stream",
     "text": [
      "3\n",
      "4\n"
     ]
    }
   ],
   "source": [
    "#How to access the last indices\n",
    "print(x[len(x)-1])\n",
    "print(x[-1])"
   ]
  },
  {
   "cell_type": "code",
   "execution_count": null,
   "id": "063f3cf0",
   "metadata": {},
   "outputs": [],
   "source": []
  },
  {
   "cell_type": "code",
   "execution_count": 67,
   "id": "frequent-tuning",
   "metadata": {},
   "outputs": [
    {
     "name": "stdout",
     "output_type": "stream",
     "text": [
      "[1, 2, 3, 4, 3, 23, 23, 4, 2, 3, 4, 5, 4, 3]\n",
      "[3, 4, 5, 4, 3, 2, 4, 23, 23, 3, 4, 3, 2, 1]\n",
      "[3, 4, 5, 4, 3, 2, 4, 23, 23, 3, 4, 3, 2, 1]\n"
     ]
    }
   ],
   "source": [
    "print(x)\n",
    "#How to access multiplespecific indicies\n",
    "# print(x[2:5])\n",
    "\n",
    "print(x[::-1])\n",
    "\n",
    "# #how to access all indicies \n",
    "# print(x)\n",
    "# print(x[:])\n",
    "# print(x[0:14])\n",
    "# print(x[0:])\n",
    "# print(x[0::])\n",
    "\n",
    "\n",
    "# #How to flip it \n",
    "# print(x[::-1])\n",
    "\n",
    "# #incrementing indices\n",
    "print(x[::-1])"
   ]
  },
  {
   "cell_type": "code",
   "execution_count": 68,
   "id": "dimensional-twelve",
   "metadata": {},
   "outputs": [
    {
     "name": "stdout",
     "output_type": "stream",
     "text": [
      "[1, 2, 3, 4, [5, 6, 7, 8]]\n"
     ]
    }
   ],
   "source": [
    "#Merge two lists\n",
    "#Don't do append because append is only for one variable \n",
    "x = [1,2,3,4]\n",
    "y = [5,6,7,8]\n",
    "\n",
    "x.append(y)\n",
    "print(x)"
   ]
  },
  {
   "cell_type": "code",
   "execution_count": 69,
   "id": "ignored-arizona",
   "metadata": {},
   "outputs": [
    {
     "name": "stdout",
     "output_type": "stream",
     "text": [
      "z1:  [1, 2, 3, 4, 5, 6, 7, 8]\n",
      "z2:  [1, 2, 3, 4, 5, 6, 7, 8]\n",
      "x:   [1, 2, 3, 4, 5, 6, 7, 8]\n"
     ]
    }
   ],
   "source": [
    "x = [1,2,3,4]\n",
    "y = [5,6,7,8]\n",
    "\n",
    "z =x+y \n",
    "print(\"z1: \", z)\n",
    "\n",
    "z = [*x,*y]\n",
    "print(\"z2: \",z)\n",
    "\n",
    "x.extend(y)\n",
    "print(\"x:  \", x)"
   ]
  },
  {
   "cell_type": "markdown",
   "id": "combined-exchange",
   "metadata": {},
   "source": [
    "### Task 3\n",
    "\n"
   ]
  },
  {
   "cell_type": "code",
   "execution_count": 74,
   "id": "engaging-plumbing",
   "metadata": {},
   "outputs": [
    {
     "name": "stdout",
     "output_type": "stream",
     "text": [
      "Animals List Length part         is correct\n",
      "Student Ages List Length part    is correct\n",
      "Finding Studens aged 20 part     is correct\n",
      "The function sorting part        is correct\n",
      "The oldest person part           is correct\n"
     ]
    }
   ],
   "source": [
    "animalsList = [\"Donkey\",\"Monkey\",\"Lion\",\"Camel\",\"Goat\",\"Whale\",\"Fish\"]\n",
    "StudentAges = [20,20,21,23,23,20,25,22,33,20,21,20] \n",
    "\n",
    "#Find the length of each list\n",
    "animalsListLength = len(animalsList) #Your code here, \n",
    "StudentAgesLength = len(StudentAges) #Your code here,\n",
    "\n",
    "#How many Students with the age 20?\n",
    "AgeEqual20 = StudentAges.count(20) #Your Code Here,\n",
    "\n",
    "#Sort the StudentAges and save it here\n",
    "sortedStudentAges = sorted(StudentAges) #Your Code Here\n",
    "\n",
    "#What is the largest value of the studentAges?\n",
    "OldestPerson = max(StudentAges) #Your Code Here\n",
    "\n",
    "\n",
    "\n",
    "#### Don't Touch the code below #####\n",
    "taskThreeScore = TaskThree(animalsListLength,StudentAgesLength,AgeEqual20,sortedStudentAges,OldestPerson)"
   ]
  },
  {
   "cell_type": "markdown",
   "id": "planned-storm",
   "metadata": {},
   "source": [
    "# Strings"
   ]
  },
  {
   "cell_type": "code",
   "execution_count": 76,
   "id": "beautiful-earthquake",
   "metadata": {},
   "outputs": [],
   "source": [
    "text = \"This is an introductory course to Python\"\n",
    "text = 'This is an introductory course to Python'"
   ]
  },
  {
   "cell_type": "code",
   "execution_count": null,
   "id": "charged-rhythm",
   "metadata": {},
   "outputs": [],
   "source": [
    "# Escaping Charecters \n",
    "text1= 'I am learning Python. It's awesome'\n",
    "\n",
    "#fixed\n",
    "text1 = 'I am learning Python. It\\'s awesome'\n",
    "text1 = \"I am learning Python. It's awesome \""
   ]
  },
  {
   "cell_type": "code",
   "execution_count": 85,
   "id": "conditional-aberdeen",
   "metadata": {},
   "outputs": [
    {
     "name": "stdout",
     "output_type": "stream",
     "text": [
      "Text is lowered: this is an introductory course to python\n",
      "Text is titled: This Is An Introductory Course To Python\n",
      "Text is captialized: THIS IS AN INTRODUCTORY COURSE TO PYTHON\n",
      "---------\n",
      "Joined Strings: This is part 1, This is part 2\n",
      "['This is part 1', ' This is part 2']\n",
      "This is part 1 2345678987654  This is part 2\n"
     ]
    }
   ],
   "source": [
    "#Methods and functions \n",
    "print(\"Text is lowered: \" + text.lower())\n",
    "print(\"Text is titled: \" + text.title())\n",
    "print(\"Text is captialized: \" + text.upper())\n",
    "\n",
    "print(\"---------\")\n",
    "\n",
    "# #joing two strings \n",
    "string1 = \"This is part 1\"\n",
    "string2 = \"This is part 2\"\n",
    "\n",
    "string3 = string1 + \", \" +string2\n",
    "print(\"Joined Strings: \"+ string3)\n",
    "\n",
    "# #splitting strings\n",
    "stringList = string3.split(\",\")\n",
    "print(stringList)\n",
    "\n",
    "\n",
    "# #Joining StringLists\n",
    "print(\" 2345678987654 \".join(stringList))"
   ]
  },
  {
   "cell_type": "code",
   "execution_count": null,
   "id": "63617ca0",
   "metadata": {},
   "outputs": [],
   "source": []
  },
  {
   "cell_type": "code",
   "execution_count": 95,
   "id": "sexual-finish",
   "metadata": {},
   "outputs": [
    {
     "name": "stdout",
     "output_type": "stream",
     "text": [
      "is Python in text:  True\n",
      "is Java in text:  False\n",
      "String Index:  34\n"
     ]
    }
   ],
   "source": [
    "# searching in strings methods \n",
    "#This returns only true or false\n",
    "print(\"is Python in text: \",\"Python\" in text)\n",
    "print(\"is Java in text: \",\"Java\" in text)\n",
    "\n",
    "#find method return the index where it finds the first letter of the find string\n",
    "print(\"String Index: \",text.find(\"Python\"))\n"
   ]
  },
  {
   "cell_type": "code",
   "execution_count": null,
   "id": "accessible-setup",
   "metadata": {},
   "outputs": [],
   "source": [
    "#indexing \n",
    "#What's the length?\n",
    "print(\"Length of text: \", len(text))\n",
    "\n",
    "print(text[3:20])\n",
    "\n",
    "print(text[34])\n"
   ]
  },
  {
   "cell_type": "markdown",
   "id": "hydraulic-skirt",
   "metadata": {},
   "source": [
    "### Task 4\n",
    "using the text string below to find the location of \"Python\" index start and store it to **PythonLoc**\n",
    "And print the word \"Python\" 10 times without using loops or writing it by yourself with a space between each word\n",
    "save the string a variable named **Python10**"
   ]
  },
  {
   "cell_type": "code",
   "execution_count": 100,
   "id": "6bff61e6",
   "metadata": {},
   "outputs": [
    {
     "data": {
      "text/plain": [
       "'AhmedAhmedAhmedAhmedAhmed'"
      ]
     },
     "execution_count": 100,
     "metadata": {},
     "output_type": "execute_result"
    }
   ],
   "source": [
    "\"Ahmed\"*5"
   ]
  },
  {
   "cell_type": "code",
   "execution_count": 102,
   "id": "empty-progressive",
   "metadata": {},
   "outputs": [
    {
     "name": "stdout",
     "output_type": "stream",
     "text": [
      "Great Work! ['PythonLoc'] is declared correctly\n",
      "Great Work! ['PythonLoc'] is an integer\n",
      "Great Work! ['Python10'] is declared correctly\n",
      "Great Work! ['Python10'] is a string\n",
      "Error! You found the wrong start location of the word\n",
      "Great Work! Python10 is printing the correct string\n"
     ]
    }
   ],
   "source": [
    "text = \"This is an introductory course given by Ahmed for Pythoneers who want to learn Python for Data Science\"\n",
    "\n",
    "#Your Beautiful Code Here \n",
    "\n",
    "PythonLoc = text.find(\"Python \")\n",
    "\n",
    "\n",
    "Python10 = \"Python \" * 10\n",
    "\n",
    "### Don't Touch The code below #### \n",
    "taskFourScore = TaskFour(Python10,globals())"
   ]
  },
  {
   "cell_type": "code",
   "execution_count": null,
   "id": "6f01f4d7",
   "metadata": {},
   "outputs": [],
   "source": [
    "PythonLoc"
   ]
  },
  {
   "cell_type": "code",
   "execution_count": 103,
   "id": "invisible-conversion",
   "metadata": {},
   "outputs": [
    {
     "ename": "NameError",
     "evalue": "name 'taskOneScore' is not defined",
     "output_type": "error",
     "traceback": [
      "\u001b[0;31m---------------------------------------------------------------------------\u001b[0m",
      "\u001b[0;31mNameError\u001b[0m                                 Traceback (most recent call last)",
      "\u001b[0;32m/var/folders/7c/nyfdc13n4yg1cxmg2b4txxqc0000gn/T/ipykernel_27973/2276865471.py\u001b[0m in \u001b[0;36m<module>\u001b[0;34m\u001b[0m\n\u001b[1;32m      2\u001b[0m \u001b[0mtotal\u001b[0m \u001b[0;34m=\u001b[0m \u001b[0;36m17\u001b[0m\u001b[0;34m\u001b[0m\u001b[0;34m\u001b[0m\u001b[0m\n\u001b[1;32m      3\u001b[0m \u001b[0;34m\u001b[0m\u001b[0m\n\u001b[0;32m----> 4\u001b[0;31m \u001b[0myourScore\u001b[0m \u001b[0;34m=\u001b[0m  \u001b[0mtotal\u001b[0m \u001b[0;34m-\u001b[0m \u001b[0;34m(\u001b[0m\u001b[0mtaskOneScore\u001b[0m \u001b[0;34m+\u001b[0m \u001b[0mtaskTwoScore\u001b[0m \u001b[0;34m+\u001b[0m \u001b[0mtaskThreeScore\u001b[0m \u001b[0;34m+\u001b[0m \u001b[0mtaskFourScore\u001b[0m\u001b[0;34m)\u001b[0m\u001b[0;34m\u001b[0m\u001b[0;34m\u001b[0m\u001b[0m\n\u001b[0m\u001b[1;32m      5\u001b[0m \u001b[0;34m\u001b[0m\u001b[0m\n\u001b[1;32m      6\u001b[0m \u001b[0;34m\u001b[0m\u001b[0m\n",
      "\u001b[0;31mNameError\u001b[0m: name 'taskOneScore' is not defined"
     ]
    }
   ],
   "source": [
    "# your Score 4 pts\n",
    "total = 17\n",
    "\n",
    "yourScore =  total - (taskOneScore + taskTwoScore + taskThreeScore + taskFourScore)\n",
    "\n",
    "\n",
    "print(f\"Your Score = {yourScore}/{total} -> {yourScore*100/total:0.1f}%\")"
   ]
  },
  {
   "cell_type": "code",
   "execution_count": null,
   "id": "accessible-spirit",
   "metadata": {},
   "outputs": [],
   "source": [
    "var = 10\n",
    "for i in range(10):\n",
    "    for j in range(2, 10, 1):\n",
    "        if var % 2 == 0:\n",
    "            continue\n",
    "            var += 1\n",
    "    var+=1\n",
    "else:\n",
    "    var+=1\n",
    "print(var)"
   ]
  },
  {
   "cell_type": "code",
   "execution_count": null,
   "id": "looking-insured",
   "metadata": {},
   "outputs": [],
   "source": []
  }
 ],
 "metadata": {
  "kernelspec": {
   "display_name": "Python 3 (ipykernel)",
   "language": "python",
   "name": "python3"
  },
  "language_info": {
   "codemirror_mode": {
    "name": "ipython",
    "version": 3
   },
   "file_extension": ".py",
   "mimetype": "text/x-python",
   "name": "python",
   "nbconvert_exporter": "python",
   "pygments_lexer": "ipython3",
   "version": "3.9.7"
  }
 },
 "nbformat": 4,
 "nbformat_minor": 5
}
