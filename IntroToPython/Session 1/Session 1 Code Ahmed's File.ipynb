{
 "cells": [
  {
   "cell_type": "code",
   "execution_count": 1,
   "id": "mature-eagle",
   "metadata": {},
   "outputs": [],
   "source": [
    "#Don't Touch this is for scoring purposes\n",
    "from Scoring import *"
   ]
  },
  {
   "cell_type": "markdown",
   "id": "alive-reservoir",
   "metadata": {},
   "source": [
    "#### Comments"
   ]
  },
  {
   "cell_type": "code",
   "execution_count": null,
   "id": "amateur-purpose",
   "metadata": {},
   "outputs": [],
   "source": [
    "#This is how you make a single line comment \n",
    "\n",
    "\"\"\"\n",
    "This is how you can make multiple lines of \n",
    "comments.\n",
    "Line 3\n",
    "Line 4\n",
    "\"\"\"\n",
    "\n",
    "variable = 10 #You can make a single line comment after the code "
   ]
  },
  {
   "cell_type": "markdown",
   "id": "nominated-desperate",
   "metadata": {},
   "source": [
    "#### Variable declaration"
   ]
  },
  {
   "cell_type": "code",
   "execution_count": null,
   "id": "vanilla-sheep",
   "metadata": {},
   "outputs": [],
   "source": [
    "#printing \n",
    "\n",
    "#Tab\n",
    "print(\"This is a normal line written by Ahmed\")\n",
    "print(\"\\tThis is a line with a tab\")\n",
    "\n",
    "# #new line\n",
    "print(\"This is line 1 \\nThis is line 2 \\nThis is line 3\")"
   ]
  },
  {
   "cell_type": "markdown",
   "id": "pressing-digest",
   "metadata": {},
   "source": [
    "10 -> Integer \n",
    "10.0 -> decimals (float) \n",
    "\n",
    "Ahmed -> String (charecters and words)"
   ]
  },
  {
   "cell_type": "code",
   "execution_count": null,
   "id": "supreme-going",
   "metadata": {},
   "outputs": [],
   "source": [
    "value1 = 10\n",
    "value2 = 20\n",
    "\n",
    "print(\"First declaration\")\n",
    "print(value1)\n",
    "print(value2)\n",
    "\n",
    "print(\"\\nSecond declaration\")\n",
    "value1 = 20\n",
    "print(value1)\n",
    "print(value2)\n",
    "\n",
    "print(\"\\nThird declaration\")\n",
    "value2 = \"String 20\"\n",
    "print(value1)\n",
    "print(value2)\n",
    "\n",
    "\n",
    "# print(\"Hello World\")"
   ]
  },
  {
   "cell_type": "markdown",
   "id": "hungry-mattress",
   "metadata": {},
   "source": [
    "Question: 3 + 7 = 10"
   ]
  },
  {
   "cell_type": "code",
   "execution_count": null,
   "id": "diagnostic-potential",
   "metadata": {},
   "outputs": [],
   "source": [
    "#formating a print with strings\n",
    "\n",
    "# We want the output to be line this \"Question: 3 + 7 = 10\"\n",
    "\n",
    "var = 3 + 7\n",
    "print(\"Question: 3 + 7 = \" + str(var))\n",
    "print(\"Question: 3 + 7 =\",var)\n",
    "print(f\"Question: 3 + 7 = {var}\")\n",
    "\n",
    "print(\"---------------------\")\n",
    "\n",
    "value1 = 3\n",
    "value2 = 11\n",
    "var = value1 + value2\n",
    "print(f\"Question: {value1} + {value2} = {value1+value2} ,,,,, \")\n",
    "print(\"Question: {} + {} = {}\".format(value1,value2,var))"
   ]
  },
  {
   "cell_type": "markdown",
   "id": "naked-watershed",
   "metadata": {},
   "source": [
    "### **Task 1** \n",
    "Create two variables **var1** and assign it to an Integer and **var2** and assign it to a string"
   ]
  },
  {
   "cell_type": "code",
   "execution_count": null,
   "id": "prostate-notification",
   "metadata": {},
   "outputs": [],
   "source": [
    "#Write your code here:\n",
    "\n",
    "\n",
    "\n",
    "### Don't Touch this, this is to check if your code is correct ###\n",
    "taskOneScore = AllIntegers(\"var1\") + AllStrings(\"var2\")"
   ]
  },
  {
   "cell_type": "markdown",
   "id": "vertical-republican",
   "metadata": {},
   "source": [
    "#### Arithmetic Operations"
   ]
  },
  {
   "cell_type": "code",
   "execution_count": null,
   "id": "median-symposium",
   "metadata": {},
   "outputs": [],
   "source": [
    "# Adding \n",
    "value1 = 10\n",
    "value2 = 20\n",
    "\n",
    "answer = value1 + value2\n",
    "print(answer)"
   ]
  },
  {
   "cell_type": "code",
   "execution_count": null,
   "id": "relevant-action",
   "metadata": {},
   "outputs": [],
   "source": [
    "print(\"Hello World\")"
   ]
  },
  {
   "cell_type": "code",
   "execution_count": null,
   "id": "acute-trout",
   "metadata": {},
   "outputs": [],
   "source": [
    "#Strings \n",
    "string1 = \"Hello\"\n",
    "string2 = \"World\"\n",
    "\n",
    "addedString = string1 + \" \" + string2\n",
    "print(addedString)"
   ]
  },
  {
   "cell_type": "code",
   "execution_count": null,
   "id": "banner-morocco",
   "metadata": {},
   "outputs": [],
   "source": [
    "# Multiplication and Division \n",
    "\n",
    "print(20 / 4)\n",
    "print(4 * 5)\n",
    "\n",
    "# power\n",
    "\n",
    "print(5*5*5*5*5*5*5*5*5*5)\n",
    "print(5**10)\n",
    "\n",
    "\n",
    "#ZeroDivisionError \n",
    "# 10/0"
   ]
  },
  {
   "cell_type": "markdown",
   "id": "alike-mouth",
   "metadata": {},
   "source": [
    "11/4 = 2 3/4"
   ]
  },
  {
   "cell_type": "code",
   "execution_count": null,
   "id": "tough-italian",
   "metadata": {},
   "outputs": [],
   "source": []
  },
  {
   "cell_type": "markdown",
   "id": "accessible-bolivia",
   "metadata": {},
   "source": [
    "### Task 2\n",
    "Complete the following code with correct values so that it prints correctly \"This is odd\""
   ]
  },
  {
   "cell_type": "code",
   "execution_count": null,
   "id": "committed-prospect",
   "metadata": {},
   "outputs": [],
   "source": [
    "#Modulus \n",
    "num =  # Enter the correct value here\n",
    "remainder =  # Enter the correct value here\n",
    "\n",
    "### don't change this below ###\n",
    "taskTwoScore = TaskTwo(456723,num,remainder)"
   ]
  },
  {
   "cell_type": "code",
   "execution_count": null,
   "id": "collected-blues",
   "metadata": {},
   "outputs": [],
   "source": []
  },
  {
   "cell_type": "markdown",
   "id": "coupled-decline",
   "metadata": {},
   "source": [
    "# Lists"
   ]
  },
  {
   "cell_type": "code",
   "execution_count": null,
   "id": "balanced-monitoring",
   "metadata": {},
   "outputs": [],
   "source": [
    "#Talk about not to use list = "
   ]
  },
  {
   "cell_type": "code",
   "execution_count": null,
   "id": "limited-mexico",
   "metadata": {},
   "outputs": [],
   "source": [
    "#Declaring lists\n",
    "\n",
    "ListOne = [1,2,3,4,10,3,1]\n",
    "ListTwo = [5,6,7,8]\n",
    "ListThree = [\"Ahmed\",\"Mohammed\",7,\"Hamood\",\"Nasser\", 5]\n",
    "\n"
   ]
  },
  {
   "cell_type": "code",
   "execution_count": 8,
   "id": "latter-angel",
   "metadata": {},
   "outputs": [],
   "source": [
    "ages = [15,16,15,20,26,17,16,14,18,20,20,20,15,15,7]"
   ]
  },
  {
   "cell_type": "code",
   "execution_count": null,
   "id": "liquid-picnic",
   "metadata": {},
   "outputs": [],
   "source": [
    "x = [1,2,3,4,3,23,23,4,2,3,4,5,4,3]\n",
    "y = [5,6,7,8]\n",
    "\n",
    "#Show them to Python Tutor pythontutor.com\n",
    "#x -> id1 \n",
    "#y -> id2\n",
    "\n",
    "# id1 ->  [1,2,3,4]\n",
    "# id2 -> [5,6,7,8]"
   ]
  },
  {
   "cell_type": "code",
   "execution_count": null,
   "id": "superb-shelter",
   "metadata": {},
   "outputs": [],
   "source": [
    "#Append Method\n",
    "print(\"Before appending\", y)\n",
    "\n",
    "y.append(5)\n",
    "print(\"After appending\", y)\n"
   ]
  },
  {
   "cell_type": "code",
   "execution_count": null,
   "id": "national-coral",
   "metadata": {},
   "outputs": [],
   "source": [
    "#Count Method\n",
    "\n",
    "x.count(93831)"
   ]
  },
  {
   "cell_type": "code",
   "execution_count": null,
   "id": "continued-fitness",
   "metadata": {},
   "outputs": [],
   "source": [
    "#len function\n",
    "\n",
    "len(y)"
   ]
  },
  {
   "cell_type": "code",
   "execution_count": null,
   "id": "mighty-ceremony",
   "metadata": {},
   "outputs": [],
   "source": [
    "y= sorted(x)"
   ]
  },
  {
   "cell_type": "code",
   "execution_count": null,
   "id": "careful-organic",
   "metadata": {},
   "outputs": [],
   "source": [
    "# List Methods\n",
    "print(ListOne)\n",
    "print(\"\\nSorted function:\")\n",
    "print(sorted(ListOne))\n",
    "\n",
    "print(ListOne)\n",
    "print(\"\\nSort method:\")\n",
    "print(ListOne.sort())\n",
    "print(ListOne)"
   ]
  },
  {
   "cell_type": "code",
   "execution_count": null,
   "id": "proprietary-oxide",
   "metadata": {},
   "outputs": [],
   "source": [
    "#Indexing \n",
    "#why this wrong\n",
    "#x[14]   # Because the indices start from zero\n",
    "\n",
    "first = x[0]\n",
    "middle = x[7]\n",
    "last = x[13]\n",
    "\n",
    "print(first,middle,last)"
   ]
  },
  {
   "cell_type": "markdown",
   "id": "legendary-healing",
   "metadata": {},
   "source": [
    "<h1 align=\"center\"> Index Numbers </h1>\n",
    "<img src=\"indexing.jpg\" width=\"400\"/>\n",
    "<br>"
   ]
  },
  {
   "cell_type": "code",
   "execution_count": null,
   "id": "introductory-radical",
   "metadata": {},
   "outputs": [],
   "source": [
    "#How to access the last indices\n",
    "print(x[13])\n",
    "print(x[-1])"
   ]
  },
  {
   "cell_type": "code",
   "execution_count": null,
   "id": "frequent-tuning",
   "metadata": {},
   "outputs": [],
   "source": [
    "#How to access multiplespecific indicies\n",
    "print(x[2:4])\n",
    "\n",
    "#how to access all indicies \n",
    "print(x)\n",
    "print(x[:])\n",
    "print(x[0:14])\n",
    "print(x[0:])\n",
    "print(x[0::])\n",
    "\n",
    "\n",
    "#How to flip it \n",
    "print(x[::-1])\n",
    "\n",
    "#incrementing indices\n",
    "print(x[::4])"
   ]
  },
  {
   "cell_type": "code",
   "execution_count": null,
   "id": "dimensional-twelve",
   "metadata": {},
   "outputs": [],
   "source": [
    "#Merge two lists\n",
    "#Don't do append because append is only for one variable \n",
    "x = [1,2,3,4]\n",
    "y = [5,6,7,8]\n",
    "\n",
    "x.append(y)\n",
    "print(x)"
   ]
  },
  {
   "cell_type": "code",
   "execution_count": null,
   "id": "ignored-arizona",
   "metadata": {},
   "outputs": [],
   "source": [
    "x = [1,2,3,4]\n",
    "y = [5,6,7,8]\n",
    "\n",
    "z =x+y \n",
    "print(\"z1: \", z)\n",
    "\n",
    "z = [*x,*y]\n",
    "print(\"z2: \",z)\n",
    "\n",
    "x.extend(y)\n",
    "print(\"x:  \", x)"
   ]
  },
  {
   "cell_type": "markdown",
   "id": "combined-exchange",
   "metadata": {},
   "source": [
    "### Task 3\n",
    "\n"
   ]
  },
  {
   "cell_type": "code",
   "execution_count": null,
   "id": "engaging-plumbing",
   "metadata": {},
   "outputs": [],
   "source": [
    "animalsList = [\"Donkey\",\"Monkey\",\"Lion\",\"Camel\",\"Goat\",\"Whale\",\"Fish\"]\n",
    "StudentAges = [20,20,21,23,23,20,25,22,33,20,21,20] \n",
    "\n",
    "#Find the length of each list\n",
    "animalsListLength = len(animalsList)*2 #Your code here, \n",
    "StudentAgesLength = len(StudentAges)*2 #Your code here,\n",
    "\n",
    "#How many Students with the age 20?\n",
    "AgeEqual20 = StudentAges.count(20)+1 #Your Code Here,\n",
    "\n",
    "#Sort the StudentAges and save it here\n",
    "sortedStudentAges = sorted(StudentAges) + [3] #Your Code Here\n",
    "\n",
    "#What is the largest value of the studentAges?\n",
    "OldestPerson = sortedStudentAges[2] #Your Code Here\n",
    "\n",
    "\n",
    "\n",
    "#### Don't Touch the code below #####\n",
    "taskThreeScore = TaskThree(animalsListLength,StudentAgesLength,AgeEqual20,sortedStudentAges,OldestPerson)"
   ]
  },
  {
   "cell_type": "markdown",
   "id": "planned-storm",
   "metadata": {},
   "source": [
    "# Strings"
   ]
  },
  {
   "cell_type": "code",
   "execution_count": null,
   "id": "beautiful-earthquake",
   "metadata": {},
   "outputs": [],
   "source": [
    "text = \"This is an introductory course to Python\"\n",
    "text = 'This is an introductory course to Python'"
   ]
  },
  {
   "cell_type": "code",
   "execution_count": null,
   "id": "charged-rhythm",
   "metadata": {},
   "outputs": [],
   "source": [
    "# Escaping Charecters \n",
    "text1= 'I am learning Python. It's awesome'\n",
    "\n",
    "#fixed\n",
    "text1 = 'I am learning Python. It\\'s awesome'\n",
    "text1 = \"I am learning Python. It's awesome \""
   ]
  },
  {
   "cell_type": "code",
   "execution_count": null,
   "id": "conditional-aberdeen",
   "metadata": {},
   "outputs": [],
   "source": [
    "#Methods and functions \n",
    "print(\"Text is lowered: \" + text.lower())\n",
    "print(\"Text is titled: \" + text.title())\n",
    "print(\"Text is captialized: \" + text.upper())\n",
    "\n",
    "print(\"---------\")\n",
    "\n",
    "#joing two strings \n",
    "string1 = \"This is part 1\"\n",
    "string2 = \"This is part 2\"\n",
    "\n",
    "string3 = string1 + \", \" +string2\n",
    "print(\"Joined Strings: \"+ string3)\n",
    "\n",
    "#splitting strings\n",
    "stringList = string3.split(\",\")\n",
    "print(stringList)\n",
    "\n",
    "#Joining StringLists\n",
    "print(\",\".join(stringList))"
   ]
  },
  {
   "cell_type": "code",
   "execution_count": null,
   "id": "sexual-finish",
   "metadata": {},
   "outputs": [],
   "source": [
    "# searching in strings methods \n",
    "#This returns only true or false\n",
    "print(\"is Python in text: \",\"Python\" in text)\n",
    "print(\"is Java in text: \",\"Java\" in text)\n",
    "\n",
    "#find method return the index where it finds the first letter of the find string\n",
    "print(\"String Index: \",text.find(\"Python\"))\n"
   ]
  },
  {
   "cell_type": "code",
   "execution_count": null,
   "id": "accessible-setup",
   "metadata": {},
   "outputs": [],
   "source": [
    "#indexing \n",
    "#What's the length?\n",
    "print(\"Length of text: \", len(text))\n",
    "\n",
    "print(text[3:20])\n",
    "\n",
    "print(text[34])\n"
   ]
  },
  {
   "cell_type": "markdown",
   "id": "hydraulic-skirt",
   "metadata": {},
   "source": [
    "### Task 4\n",
    "using the text string below to find the location of \"Python\" index start and store it to **PythonLoc**\n",
    "And print the word \"Python\" 10 times without using loops or writing it by yourself with a space between each word\n",
    "save the string a variable named **Python10**"
   ]
  },
  {
   "cell_type": "code",
   "execution_count": 2,
   "id": "empty-progressive",
   "metadata": {},
   "outputs": [
    {
     "ename": "NameError",
     "evalue": "name 'TaskFour' is not defined",
     "output_type": "error",
     "traceback": [
      "\u001b[0;31m---------------------------------------------------------------------------\u001b[0m",
      "\u001b[0;31mNameError\u001b[0m                                 Traceback (most recent call last)",
      "\u001b[0;32m/var/folders/7c/nyfdc13n4yg1cxmg2b4txxqc0000gn/T/ipykernel_18845/3780688721.py\u001b[0m in \u001b[0;36m<module>\u001b[0;34m\u001b[0m\n\u001b[1;32m      9\u001b[0m \u001b[0;34m\u001b[0m\u001b[0m\n\u001b[1;32m     10\u001b[0m \u001b[0;31m### Don't Touch The code below ####\u001b[0m\u001b[0;34m\u001b[0m\u001b[0;34m\u001b[0m\u001b[0m\n\u001b[0;32m---> 11\u001b[0;31m \u001b[0mtaskFourScore\u001b[0m \u001b[0;34m=\u001b[0m \u001b[0mTaskFour\u001b[0m\u001b[0;34m(\u001b[0m\u001b[0mPython10\u001b[0m\u001b[0;34m)\u001b[0m\u001b[0;34m\u001b[0m\u001b[0;34m\u001b[0m\u001b[0m\n\u001b[0m",
      "\u001b[0;31mNameError\u001b[0m: name 'TaskFour' is not defined"
     ]
    }
   ],
   "source": [
    "text = \"This is an introductory course giving by Ahmed for Pythoneers who want to learn Python for Data Science\"\n",
    "\n",
    "#Your Beautiful Code Here \n",
    "\n",
    "\n",
    "\n",
    "\n",
    "Python10 = 2\n",
    "\n",
    "### Don't Touch The code below #### \n",
    "taskFourScore = TaskFour(Python10)"
   ]
  },
  {
   "cell_type": "code",
   "execution_count": null,
   "id": "invisible-conversion",
   "metadata": {},
   "outputs": [],
   "source": [
    "# your Score 4 pts\n",
    "total = 16\n",
    "\n",
    "yourScore =  total - (taskOneScore + taskTwoScore + taskThreeScore + taskFourScore)\n",
    "\n",
    "\n",
    "print(f\"Your Score = {yourScore}/{total} -> {yourScore*100/total:0.1f}%\")"
   ]
  },
  {
   "cell_type": "code",
   "execution_count": null,
   "id": "accessible-spirit",
   "metadata": {},
   "outputs": [],
   "source": [
    "var = 10\n",
    "for i in range(10):\n",
    "    for j in range(2, 10, 1):\n",
    "        if var % 2 == 0:\n",
    "            continue\n",
    "            var += 1\n",
    "    var+=1\n",
    "else:\n",
    "    var+=1\n",
    "print(var)"
   ]
  },
  {
   "cell_type": "code",
   "execution_count": null,
   "id": "looking-insured",
   "metadata": {},
   "outputs": [],
   "source": []
  }
 ],
 "metadata": {
  "kernelspec": {
   "display_name": "Python 3 (ipykernel)",
   "language": "python",
   "name": "python3"
  },
  "language_info": {
   "codemirror_mode": {
    "name": "ipython",
    "version": 3
   },
   "file_extension": ".py",
   "mimetype": "text/x-python",
   "name": "python",
   "nbconvert_exporter": "python",
   "pygments_lexer": "ipython3",
   "version": "3.9.7"
  }
 },
 "nbformat": 4,
 "nbformat_minor": 5
}
