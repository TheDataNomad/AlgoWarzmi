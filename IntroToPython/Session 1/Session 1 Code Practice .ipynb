{
 "cells": [
  {
   "cell_type": "code",
   "execution_count": null,
   "id": "mature-eagle",
   "metadata": {},
   "outputs": [],
   "source": [
    "#Don't Touch this is for scoring purposes\n",
    "from Scoring import *"
   ]
  },
  {
   "cell_type": "markdown",
   "id": "alive-reservoir",
   "metadata": {},
   "source": [
    "#### Comments"
   ]
  },
  {
   "cell_type": "code",
   "execution_count": null,
   "id": "amateur-purpose",
   "metadata": {},
   "outputs": [],
   "source": [
    "#This is how you make a single line comment \n",
    "\n",
    "\"\"\"\n",
    "This is how you can make multiple lines of \n",
    "comments.\n",
    "Line 3\n",
    "Line 4\n",
    "\"\"\"\n",
    "\n",
    "variable = 10 #You can make a single line comment after the code "
   ]
  },
  {
   "cell_type": "markdown",
   "id": "nominated-desperate",
   "metadata": {},
   "source": [
    "#### Variable declaration"
   ]
  },
  {
   "cell_type": "code",
   "execution_count": null,
   "id": "supreme-going",
   "metadata": {},
   "outputs": [],
   "source": []
  },
  {
   "cell_type": "code",
   "execution_count": null,
   "id": "progressive-tiger",
   "metadata": {},
   "outputs": [],
   "source": [
    "#printing \n",
    "\n",
    "#Tab\n",
    "\n",
    "#new line\n"
   ]
  },
  {
   "cell_type": "code",
   "execution_count": null,
   "id": "diagnostic-potential",
   "metadata": {},
   "outputs": [],
   "source": [
    "#formating a print with strings\n"
   ]
  },
  {
   "cell_type": "markdown",
   "id": "naked-watershed",
   "metadata": {},
   "source": [
    "### **Task 1** \n",
    "Create two variables **var1** and assign it to an Integer and **var2** and assign it to a string"
   ]
  },
  {
   "cell_type": "code",
   "execution_count": null,
   "id": "prostate-notification",
   "metadata": {},
   "outputs": [],
   "source": [
    "#Write your code here:\n",
    "\n",
    "\n",
    "\n",
    "\n",
    "### Don't Touch this, this is to check if your code is correct ###\n",
    "taskOneScore = AllIntegers(\"var1\",globals()) + AllStrings(\"var2\",globals())"
   ]
  },
  {
   "cell_type": "markdown",
   "id": "vertical-republican",
   "metadata": {},
   "source": [
    "#### Arithmetic Operations"
   ]
  },
  {
   "cell_type": "code",
   "execution_count": null,
   "id": "median-symposium",
   "metadata": {},
   "outputs": [],
   "source": [
    "# Adding \n"
   ]
  },
  {
   "cell_type": "code",
   "execution_count": null,
   "id": "acute-trout",
   "metadata": {},
   "outputs": [],
   "source": [
    "#Strings \n"
   ]
  },
  {
   "cell_type": "code",
   "execution_count": null,
   "id": "banner-morocco",
   "metadata": {},
   "outputs": [],
   "source": [
    "# Multiplication and Division \n",
    "\n",
    "\n",
    "# power\n",
    "\n",
    "\n",
    "#ZeroDivisionError \n"
   ]
  },
  {
   "cell_type": "markdown",
   "id": "accessible-bolivia",
   "metadata": {},
   "source": [
    "### Task 2\n",
    "Complete the following code with correct values so that it prints correctly \"This is odd\""
   ]
  },
  {
   "cell_type": "code",
   "execution_count": null,
   "id": "committed-prospect",
   "metadata": {},
   "outputs": [],
   "source": [
    "#Modulus \n",
    "num =  # Enter the correct value here\n",
    "remainder =  # Enter the correct value here\n",
    "\n",
    "### don't change this below ###\n",
    "taskTwoScore = TaskTwo(456723,num,remainder)"
   ]
  },
  {
   "cell_type": "markdown",
   "id": "coupled-decline",
   "metadata": {},
   "source": [
    "# Lists"
   ]
  },
  {
   "cell_type": "code",
   "execution_count": null,
   "id": "balanced-monitoring",
   "metadata": {},
   "outputs": [],
   "source": [
    "#Why shouldn't use list as a variable "
   ]
  },
  {
   "cell_type": "code",
   "execution_count": null,
   "id": "limited-mexico",
   "metadata": {},
   "outputs": [],
   "source": [
    "#Declaring lists\n",
    "\n",
    "\n"
   ]
  },
  {
   "cell_type": "code",
   "execution_count": null,
   "id": "statewide-ministry",
   "metadata": {},
   "outputs": [],
   "source": [
    "# List Methods\n"
   ]
  },
  {
   "cell_type": "code",
   "execution_count": null,
   "id": "liquid-picnic",
   "metadata": {},
   "outputs": [],
   "source": [
    "x = [1,2,3,4,3,23,23,4,2,3,4,5,4,3]\n",
    "y = [5,6,7,8]\n",
    "\n",
    "#Python Tutor Live Code\n",
    "#x -> id1 \n",
    "#y -> id2\n",
    "# id1 ->  [1,2,3,4]\n",
    "# id2 -> [5,6,7,8]"
   ]
  },
  {
   "cell_type": "code",
   "execution_count": null,
   "id": "superb-shelter",
   "metadata": {},
   "outputs": [],
   "source": [
    "#Append Method\n",
    "\n"
   ]
  },
  {
   "cell_type": "code",
   "execution_count": null,
   "id": "national-coral",
   "metadata": {},
   "outputs": [],
   "source": [
    "#Count Method\n",
    "\n"
   ]
  },
  {
   "cell_type": "code",
   "execution_count": null,
   "id": "continued-fitness",
   "metadata": {},
   "outputs": [],
   "source": [
    "#len function\n",
    "\n"
   ]
  },
  {
   "cell_type": "code",
   "execution_count": null,
   "id": "proprietary-oxide",
   "metadata": {},
   "outputs": [],
   "source": [
    "#Indexing \n",
    "#why len(x) is not the end of string\n"
   ]
  },
  {
   "cell_type": "code",
   "execution_count": null,
   "id": "introductory-radical",
   "metadata": {},
   "outputs": [],
   "source": [
    "#How to access the last indices\n"
   ]
  },
  {
   "cell_type": "code",
   "execution_count": null,
   "id": "frequent-tuning",
   "metadata": {},
   "outputs": [],
   "source": [
    "#How to access multiplespecific indicies\n",
    "\n",
    "#how to access all indicies \n",
    "\n",
    "\n",
    "\n",
    "#How to flip it \n",
    "\n",
    "#incrementing indices\n"
   ]
  },
  {
   "cell_type": "code",
   "execution_count": null,
   "id": "dimensional-twelve",
   "metadata": {},
   "outputs": [],
   "source": [
    "#Merge two lists\n",
    "#Don't do append because append is only for one variable \n",
    "x = [1,2,3,4]\n",
    "y = [5,6,7,8]\n",
    "\n"
   ]
  },
  {
   "cell_type": "code",
   "execution_count": null,
   "id": "ignored-arizona",
   "metadata": {},
   "outputs": [],
   "source": [
    "x = [1,2,3,4]\n",
    "y = [5,6,7,8]\n",
    "\n"
   ]
  },
  {
   "cell_type": "markdown",
   "id": "combined-exchange",
   "metadata": {},
   "source": [
    "### Task 3\n",
    "\n"
   ]
  },
  {
   "cell_type": "code",
   "execution_count": null,
   "id": "engaging-plumbing",
   "metadata": {},
   "outputs": [],
   "source": [
    "animalsList = [\"Donkey\",\"Monkey\",\"Lion\",\"Camel\",\"Goat\",\"Whale\",\"Fish\"]\n",
    "StudentAges = [20,20,21,23,23,20,25,22,33,20,21,20] \n",
    "\n",
    "#Find the length of each list\n",
    "animalsListLength =  #Your code here, \n",
    "StudentAgesLength =  #Your code here,\n",
    "\n",
    "#How many Students with the age 20?\n",
    "AgeEqual20 =  #Your Code Here,\n",
    "\n",
    "#Sort the StudentAges and save it here\n",
    "sortedStudentAges =  #Your Code Here\n",
    "\n",
    "#What is the largest value of the studentAges?\n",
    "OldestPerson =  #Your Code Here\n",
    "\n",
    "\n",
    "\n",
    "#### Don't Touch the code below #####\n",
    "taskThreeScore = TaskThree(animalsListLength,StudentAgesLength,AgeEqual20,sortedStudentAges,OldestPerson)"
   ]
  },
  {
   "cell_type": "markdown",
   "id": "planned-storm",
   "metadata": {},
   "source": [
    "# Strings"
   ]
  },
  {
   "cell_type": "code",
   "execution_count": null,
   "id": "beautiful-earthquake",
   "metadata": {},
   "outputs": [],
   "source": [
    "text = \"This is an introductory course to Python\"\n",
    "text = 'This is an introductory course to Python'"
   ]
  },
  {
   "cell_type": "code",
   "execution_count": null,
   "id": "charged-rhythm",
   "metadata": {},
   "outputs": [],
   "source": [
    "# Escaping Charecters \n",
    "text1= 'I am learning Python. It's awesome'\n",
    "\n",
    "#fixed\n"
   ]
  },
  {
   "cell_type": "code",
   "execution_count": null,
   "id": "conditional-aberdeen",
   "metadata": {},
   "outputs": [],
   "source": [
    "#Methods and functions \n",
    "print(\"Text is lowered: \" +  )\n",
    "print(\"Text is titled: \" +  )\n",
    "print(\"Text is captialized: \" + )\n",
    "\n",
    "print(\"---------\")\n",
    "\n",
    "#joing two strings \n",
    "string1 = \"This is part 1\"\n",
    "string2 = \"This is part 2\"\n",
    "\n",
    "\n",
    "\n",
    "#splitting strings\n",
    "\n",
    "\n",
    "#Joining StringLists\n",
    "\n"
   ]
  },
  {
   "cell_type": "code",
   "execution_count": null,
   "id": "sexual-finish",
   "metadata": {},
   "outputs": [],
   "source": [
    "# searching in strings methods \n",
    "#This returns only true or false\n",
    "\n",
    "\n",
    "#find method return the index where it finds the first letter of the find string\n",
    "\n"
   ]
  },
  {
   "cell_type": "code",
   "execution_count": null,
   "id": "accessible-setup",
   "metadata": {},
   "outputs": [],
   "source": [
    "#indexing \n",
    "#What's the length?\n",
    "print(\"Length of text: \", )\n",
    "\n",
    "\n"
   ]
  },
  {
   "cell_type": "markdown",
   "id": "hydraulic-skirt",
   "metadata": {},
   "source": [
    "### Task 4\n",
    "using the text string below to find the location of \"Python\" index start and store it to **PythonLoc**\n",
    "And print the word \"Python\" 10 times without using loops or writing it by yourself with a space between each word\n",
    "save the string a variable named **Python10**"
   ]
  },
  {
   "cell_type": "code",
   "execution_count": null,
   "id": "empty-progressive",
   "metadata": {},
   "outputs": [],
   "source": [
    "text = \"This is an introductory course giving by Ahmed for Pythoneers who want to learn Python for Data Science\"\n",
    "\n",
    "#Your Beautiful Code Here \n",
    "\n",
    "\n",
    "\n",
    "\n",
    "Python10 = \n",
    "\n",
    "### Don't Touch The code below #### \n",
    "taskFourScore = TaskFour(Python10,globals())"
   ]
  },
  {
   "cell_type": "code",
   "execution_count": null,
   "id": "invisible-conversion",
   "metadata": {},
   "outputs": [],
   "source": [
    "# your Score 4 pts\n",
    "total = 16\n",
    "\n",
    "yourScore =  total - (taskOneScore + taskTwoScore + taskThreeScore + taskFourScore)\n",
    "\n",
    "\n",
    "print(f\"Your Score = {yourScore}/{total} -> {yourScore*100/total:0.1f}%\")"
   ]
  },
  {
   "cell_type": "code",
   "execution_count": null,
   "id": "cathedral-title",
   "metadata": {},
   "outputs": [],
   "source": []
  }
 ],
 "metadata": {
  "kernelspec": {
   "display_name": "Python 3",
   "language": "python",
   "name": "python3"
  },
  "language_info": {
   "codemirror_mode": {
    "name": "ipython",
    "version": 3
   },
   "file_extension": ".py",
   "mimetype": "text/x-python",
   "name": "python",
   "nbconvert_exporter": "python",
   "pygments_lexer": "ipython3",
   "version": "3.9.1"
  }
 },
 "nbformat": 4,
 "nbformat_minor": 5
}
