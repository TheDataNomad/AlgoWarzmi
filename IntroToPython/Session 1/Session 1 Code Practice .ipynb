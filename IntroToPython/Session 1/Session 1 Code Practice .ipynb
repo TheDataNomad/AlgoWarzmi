{
  "cells": [
    {
      "cell_type": "markdown",
      "metadata": {
        "id": "view-in-github",
        "colab_type": "text"
      },
      "source": [
        "<a href=\"https://colab.research.google.com/github/TheDataNomad/AlgoWarzmi/blob/main/IntroToPython/Session%201/Session%201%20Code%20Practice%20.ipynb\" target=\"_parent\"><img src=\"https://colab.research.google.com/assets/colab-badge.svg\" alt=\"Open In Colab\"/></a>"
      ]
    },
    {
      "cell_type": "markdown",
      "id": "nominated-desperate",
      "metadata": {
        "id": "nominated-desperate"
      },
      "source": [
        "#### Variable declaration"
      ]
    },
    {
      "cell_type": "code",
      "execution_count": 1,
      "id": "supreme-going",
      "metadata": {
        "id": "supreme-going"
      },
      "outputs": [],
      "source": [
        "var = 10"
      ]
    },
    {
      "cell_type": "code",
      "execution_count": null,
      "id": "progressive-tiger",
      "metadata": {
        "id": "progressive-tiger"
      },
      "outputs": [],
      "source": [
        "#printing\n",
        "\n",
        "\n",
        "\n"
      ]
    },
    {
      "cell_type": "code",
      "execution_count": null,
      "id": "diagnostic-potential",
      "metadata": {
        "id": "diagnostic-potential"
      },
      "outputs": [],
      "source": [
        "#formating a print with strings\n"
      ]
    },
    {
      "cell_type": "code",
      "source": [
        "### Task One - Introduce Yourself\n",
        "\n",
        "\n",
        "\n"
      ],
      "metadata": {
        "id": "7-A7GuXY7RpQ"
      },
      "id": "7-A7GuXY7RpQ",
      "execution_count": null,
      "outputs": []
    },
    {
      "cell_type": "markdown",
      "id": "alive-reservoir",
      "metadata": {
        "id": "alive-reservoir"
      },
      "source": [
        "#### Comments"
      ]
    },
    {
      "cell_type": "code",
      "execution_count": null,
      "id": "amateur-purpose",
      "metadata": {
        "id": "amateur-purpose"
      },
      "outputs": [],
      "source": [
        "#This is how you make a single line comment\n",
        "\n",
        "\"\"\"\n",
        "This is how you can make multiple lines of\n",
        "comments.\n",
        "Line 3\n",
        "Line 4\n",
        "\"\"\"\n",
        "\n",
        "variable = 10 #You can make a single line comment after the code"
      ]
    },
    {
      "cell_type": "markdown",
      "id": "vertical-republican",
      "metadata": {
        "id": "vertical-republican"
      },
      "source": [
        "#### Arithmetic Operations"
      ]
    },
    {
      "cell_type": "code",
      "execution_count": null,
      "id": "median-symposium",
      "metadata": {
        "id": "median-symposium"
      },
      "outputs": [],
      "source": [
        "# Adding\n"
      ]
    },
    {
      "cell_type": "code",
      "execution_count": null,
      "id": "acute-trout",
      "metadata": {
        "id": "acute-trout"
      },
      "outputs": [],
      "source": [
        "#Strings\n"
      ]
    },
    {
      "cell_type": "code",
      "execution_count": null,
      "id": "banner-morocco",
      "metadata": {
        "id": "banner-morocco"
      },
      "outputs": [],
      "source": [
        "# Multiplication and Division\n",
        "\n",
        "\n",
        "\n",
        "\n",
        "# power\n",
        "\n",
        "\n",
        "\n",
        "\n",
        "\n",
        "\n",
        "#ZeroDivisionError\n"
      ]
    },
    {
      "cell_type": "code",
      "source": [
        "\n"
      ],
      "metadata": {
        "id": "WstWb-2W7rMr"
      },
      "id": "WstWb-2W7rMr",
      "execution_count": null,
      "outputs": []
    },
    {
      "cell_type": "markdown",
      "id": "accessible-bolivia",
      "metadata": {
        "id": "accessible-bolivia"
      },
      "source": [
        "### Task 2\n",
        "\n",
        "Formula\n",
        "\n",
        "![Screenshot 2025-02-05 at 3.49.50 PM.png](data:image/png;base64,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)\n",
        "\n",
        "\n",
        "\n",
        "\n",
        "*   A\t=\tfinal amount\n",
        "*   P\t=\tinitial principal balance\n",
        "*   r\t=\tinterest rate\n",
        "*   n\t=\tnumber of times interest applied per time period\n",
        "*   t\t=\tnumber of time periods elapsed"
      ]
    },
    {
      "cell_type": "code",
      "execution_count": null,
      "id": "committed-prospect",
      "metadata": {
        "id": "committed-prospect"
      },
      "outputs": [],
      "source": [
        "### Write your code here\n",
        "\n",
        "\n",
        "\n"
      ]
    },
    {
      "cell_type": "markdown",
      "id": "coupled-decline",
      "metadata": {
        "id": "coupled-decline"
      },
      "source": [
        "# Lists"
      ]
    },
    {
      "cell_type": "code",
      "execution_count": null,
      "id": "balanced-monitoring",
      "metadata": {
        "id": "balanced-monitoring"
      },
      "outputs": [],
      "source": [
        "#Why shouldn't use list as a variable"
      ]
    },
    {
      "cell_type": "code",
      "execution_count": null,
      "id": "limited-mexico",
      "metadata": {
        "id": "limited-mexico"
      },
      "outputs": [],
      "source": [
        "#Declaring lists\n",
        "\n",
        "\n"
      ]
    },
    {
      "cell_type": "code",
      "execution_count": null,
      "id": "statewide-ministry",
      "metadata": {
        "id": "statewide-ministry"
      },
      "outputs": [],
      "source": [
        "# List Methods\n"
      ]
    },
    {
      "cell_type": "code",
      "execution_count": null,
      "id": "liquid-picnic",
      "metadata": {
        "id": "liquid-picnic"
      },
      "outputs": [],
      "source": [
        "x = [1,2,3,4,3,23,23,4,2,3,4,5,4,3]\n",
        "y = [5,6,7,8]\n",
        "\n",
        "#Python Tutor Live Code\n",
        "#x -> id1\n",
        "#y -> id2\n",
        "# id1 ->  [1,2,3,4]\n",
        "# id2 -> [5,6,7,8]"
      ]
    },
    {
      "cell_type": "code",
      "execution_count": null,
      "id": "superb-shelter",
      "metadata": {
        "id": "superb-shelter"
      },
      "outputs": [],
      "source": [
        "#Append Method\n",
        "\n"
      ]
    },
    {
      "cell_type": "code",
      "source": [
        "#insert Method\n",
        "\n"
      ],
      "metadata": {
        "id": "SqHzxOTP0snV"
      },
      "id": "SqHzxOTP0snV",
      "execution_count": null,
      "outputs": []
    },
    {
      "cell_type": "code",
      "execution_count": null,
      "id": "national-coral",
      "metadata": {
        "id": "national-coral"
      },
      "outputs": [],
      "source": [
        "#Count Method\n",
        "\n"
      ]
    },
    {
      "cell_type": "code",
      "execution_count": null,
      "id": "continued-fitness",
      "metadata": {
        "id": "continued-fitness"
      },
      "outputs": [],
      "source": [
        "#len function\n",
        "\n"
      ]
    },
    {
      "cell_type": "code",
      "execution_count": null,
      "id": "proprietary-oxide",
      "metadata": {
        "id": "proprietary-oxide"
      },
      "outputs": [],
      "source": [
        "#Indexing\n",
        "#why len(x) is not the end of string\n"
      ]
    },
    {
      "cell_type": "code",
      "execution_count": null,
      "id": "introductory-radical",
      "metadata": {
        "id": "introductory-radical"
      },
      "outputs": [],
      "source": [
        "#How to access the last indices\n",
        "\n",
        "\n",
        "\n"
      ]
    },
    {
      "cell_type": "code",
      "execution_count": null,
      "id": "frequent-tuning",
      "metadata": {
        "id": "frequent-tuning"
      },
      "outputs": [],
      "source": [
        "#How to access multiplespecific indicies\n",
        "\n",
        "\n",
        "\n",
        "#how to access all indicies\n",
        "\n",
        "\n",
        "\n",
        "#How to flip it\n",
        "\n",
        "\n",
        "\n",
        "\n",
        "#incrementing indices\n"
      ]
    },
    {
      "cell_type": "code",
      "source": [
        "#copy method\n",
        "\n"
      ],
      "metadata": {
        "id": "tLKPnQ1X08vZ"
      },
      "id": "tLKPnQ1X08vZ",
      "execution_count": null,
      "outputs": []
    },
    {
      "cell_type": "code",
      "execution_count": null,
      "id": "dimensional-twelve",
      "metadata": {
        "id": "dimensional-twelve"
      },
      "outputs": [],
      "source": [
        "#Merge two lists\n",
        "#Don't do append because append is only for one variable\n",
        "x = [1,2,3,4]\n",
        "y = [5,6,7,8]\n",
        "\n"
      ]
    },
    {
      "cell_type": "code",
      "execution_count": null,
      "id": "ignored-arizona",
      "metadata": {
        "id": "ignored-arizona"
      },
      "outputs": [],
      "source": [
        "x = [1,2,3,4]\n",
        "y = [5,6,7,8]\n",
        "\n"
      ]
    },
    {
      "cell_type": "markdown",
      "id": "combined-exchange",
      "metadata": {
        "id": "combined-exchange"
      },
      "source": [
        "### Task 3\n",
        "\n"
      ]
    },
    {
      "cell_type": "code",
      "execution_count": null,
      "id": "engaging-plumbing",
      "metadata": {
        "id": "engaging-plumbing"
      },
      "outputs": [],
      "source": [
        "animalsList = [\"Donkey\",\"Monkey\",\"Lion\",\"Camel\",\"Goat\",\"Whale\",\"Fish\"]\n",
        "StudentAges = [20,20,21,23,23,20,25,22,33,20,21,20]\n",
        "\n",
        "#Find the length of each list\n",
        "animalsListLength =  #Your code here,\n",
        "StudentAgesLength =  #Your code here,\n",
        "\n",
        "#How many Students with the age 20?\n",
        "AgeEqual20 =  #Your Code Here,\n",
        "\n",
        "#Sort the StudentAges and save it here\n",
        "sortedStudentAges =  #Your Code Here\n",
        "\n",
        "#What is the largest value of the studentAges?\n",
        "OldestPerson =  #Your Code Here\n",
        "\n",
        "\n",
        "\n",
        "\n",
        "\n"
      ]
    },
    {
      "cell_type": "markdown",
      "id": "planned-storm",
      "metadata": {
        "id": "planned-storm"
      },
      "source": [
        "# Strings"
      ]
    },
    {
      "cell_type": "code",
      "execution_count": null,
      "id": "beautiful-earthquake",
      "metadata": {
        "id": "beautiful-earthquake"
      },
      "outputs": [],
      "source": [
        "text = \"This is an introductory course to Python\"\n",
        "text = 'This is an introductory course to Python'"
      ]
    },
    {
      "cell_type": "code",
      "execution_count": null,
      "id": "charged-rhythm",
      "metadata": {
        "id": "charged-rhythm"
      },
      "outputs": [],
      "source": [
        "# Escaping Charecters\n",
        "text1= 'I am learning Python. It's awesome'\n",
        "\n",
        "#fixed\n"
      ]
    },
    {
      "cell_type": "code",
      "execution_count": null,
      "id": "conditional-aberdeen",
      "metadata": {
        "id": "conditional-aberdeen"
      },
      "outputs": [],
      "source": [
        "#Methods and functions\n",
        "print(\"Text is lowered: \" +  )\n",
        "print(\"Text is titled: \" +  )\n",
        "print(\"Text is captialized: \" + )\n",
        "\n",
        "print(\"---------\")\n",
        "\n",
        "#joing two strings\n",
        "string1 = \"This is part 1\"\n",
        "string2 = \"This is part 2\"\n",
        "\n",
        "\n",
        "\n",
        "#splitting strings\n",
        "\n",
        "\n",
        "\n",
        "\n",
        "#Joining StringLists\n",
        "\n"
      ]
    },
    {
      "cell_type": "code",
      "execution_count": null,
      "id": "sexual-finish",
      "metadata": {
        "id": "sexual-finish"
      },
      "outputs": [],
      "source": [
        "# searching in strings methods\n",
        "#This returns only true or false\n",
        "\n",
        "\n",
        "\n",
        "\n",
        "\n",
        "\n",
        "\n",
        "#find method return the index where it finds the first letter of the find string\n",
        "\n",
        "\n",
        "\n"
      ]
    },
    {
      "cell_type": "code",
      "execution_count": null,
      "id": "accessible-setup",
      "metadata": {
        "id": "accessible-setup"
      },
      "outputs": [],
      "source": [
        "#indexing\n",
        "#What's the length?\n",
        "print(\"Length of text: \", )\n",
        "\n",
        "\n"
      ]
    },
    {
      "cell_type": "markdown",
      "id": "hydraulic-skirt",
      "metadata": {
        "id": "hydraulic-skirt"
      },
      "source": [
        "### Task 4\n",
        "using the text string below to find the location of \"Python\" index start and store it to **PythonLoc**\n",
        "And print the word \"Python\" 10 times without using loops or writing it by yourself with a space between each word\n",
        "save the string a variable named **Python10**"
      ]
    },
    {
      "cell_type": "code",
      "execution_count": null,
      "id": "empty-progressive",
      "metadata": {
        "id": "empty-progressive"
      },
      "outputs": [],
      "source": [
        "text = \"This is an introductory course giving by Ahmed for Pythoneers who want to learn Python for Data Science\"\n",
        "\n",
        "#Your Beautiful Code Here\n",
        "\n",
        "\n",
        "\n",
        "\n",
        "Python10 =\n",
        "\n"
      ]
    },
    {
      "cell_type": "markdown",
      "source": [
        "# Dicts / Sets"
      ],
      "metadata": {
        "id": "-Mi-f8x4yka4"
      },
      "id": "-Mi-f8x4yka4"
    },
    {
      "cell_type": "code",
      "source": [
        "## What's the difference between those two?\n",
        "\n",
        "country_codes_list = [\"OM\", \"US\", \"GB\", \"DE\", \"QA\", \"OM\", \"CA\"]  # List allows duplicates\n",
        "country_codes_set = {\"OM\", \"US\", \"GB\", \"DE\", \"QA\", \"OM\", \"CA\"}  # Set removes duplicates"
      ],
      "metadata": {
        "id": "56HPNX-Myj5F"
      },
      "id": "56HPNX-Myj5F",
      "execution_count": null,
      "outputs": []
    },
    {
      "cell_type": "code",
      "source": [
        "country_codes_list = [\"OM\", \"US\", \"GB\", \"DE\", \"QA\", \"OM\", \"CA\"]  # List allows duplicates\n",
        "country_codes_set = {\"OM\", \"US\", \"GB\", \"DE\", \"QA\", \"OM\", \"CA\"}  # Set removes duplicates\n",
        "\n",
        "print(\"List:\", country_codes_list)\n",
        "print(\"Set:\", country_codes_set)\n",
        "\n",
        "# Demonstrating set operations\n",
        "print(\"Number of unique countries in set:\", len(country_codes_set))\n",
        "\n",
        "# Adding new country codes to both\n",
        "country_codes_list.append(\"JP\")\n",
        "country_codes_set.add(\"JP\")\n",
        "\n",
        "# Trying to add a duplicate to a set (no effect)\n",
        "country_codes_set.add(\"US\")\n",
        "\n",
        "print(\"\\nList after adding JP:\", country_codes_list)\n",
        "print(\"Set after adding JP:\", country_codes_set)\n",
        "\n",
        "country_codes_set.discard(\"FR\")  # discard() does not raise an error if element not found\n",
        "country_codes_set.discard(\"XX\") # discard() does not raise an error if element not found\n",
        "\n",
        "print(\"\\nList after removing US:\", country_codes_list)\n",
        "print(\"Set after discarding FR:\", country_codes_set)"
      ],
      "metadata": {
        "id": "vMdJq6cSzWQe"
      },
      "id": "vMdJq6cSzWQe",
      "execution_count": null,
      "outputs": []
    },
    {
      "cell_type": "code",
      "source": [
        "# Example of a Python dictionary\n",
        "my_dict = {\n",
        "    \"name\": \"Alice\",\n",
        "    \"age\": 30,\n",
        "    \"city\": \"New York\"\n",
        "}"
      ],
      "metadata": {
        "id": "s3UFfoC9zAn-"
      },
      "id": "s3UFfoC9zAn-",
      "execution_count": null,
      "outputs": []
    },
    {
      "cell_type": "code",
      "source": [
        "# Accessing elements\n",
        "print(my_dict[\"name\"])\n",
        "print(my_dict.get(\"age\"))"
      ],
      "metadata": {
        "id": "9TAZCPVbzsQX"
      },
      "id": "9TAZCPVbzsQX",
      "execution_count": null,
      "outputs": []
    },
    {
      "cell_type": "code",
      "source": [
        "# Modifying elements\n",
        "my_dict[\"age\"] = 31\n",
        "print(my_dict)"
      ],
      "metadata": {
        "id": "r05PuXPHztsB"
      },
      "id": "r05PuXPHztsB",
      "execution_count": null,
      "outputs": []
    },
    {
      "cell_type": "code",
      "source": [
        "# Adding elements\n",
        "my_dict[\"occupation\"] = \"Engineer\"\n",
        "print(my_dict)"
      ],
      "metadata": {
        "id": "iwn86PIvzu8N"
      },
      "id": "iwn86PIvzu8N",
      "execution_count": null,
      "outputs": []
    },
    {
      "cell_type": "markdown",
      "source": [
        "## Task Dict"
      ],
      "metadata": {
        "id": "3vxKFC1Jz9Kw"
      },
      "id": "3vxKFC1Jz9Kw"
    },
    {
      "cell_type": "code",
      "source": [
        "# Complex Dictionary Example\n",
        "student_data = {\n",
        "    \"students\": [\n",
        "        {\"name\": \"Alice\", \"id\": 101, \"grades\": {\"math\": 85, \"science\": 92, \"english\": 78}},\n",
        "        {\"name\": \"Bob\", \"id\": 102, \"grades\": {\"math\": 90, \"science\": 88, \"english\": 95}},\n",
        "        {\"name\": \"Charlie\", \"id\": 103, \"grades\": {\"math\": 76, \"science\": 80, \"english\": 85}},\n",
        "        {\"name\": \"David\", \"id\": 104, \"grades\": {\"math\": 92, \"science\": 95, \"english\": 88}},\n",
        "    ],\n",
        "    \"courses\": [\"Math\", \"Science\", \"English\"],\n",
        "    \"average_grade\": 85.5\n",
        "}\n",
        "\n",
        "\n",
        "# Your Tasks\n",
        "\n",
        "# 1. Accessing Data:\n",
        "# Print Alice's math grade.\n",
        "alice_math_grade =\n",
        "print(f\"Alice's math grade: {alice_math_grade}\")\n",
        "\n",
        "\n",
        "# 2. Data Modification:\n",
        "# Add a new student, \"Eve\", with id 105 and grades: math=88, science=90, english=92.\n",
        "new_student =\n",
        "student_data[\"students\"].append(new_student)\n",
        "\n",
        "# Print updated student list to verify addition\n",
        "print(student_data[\"students\"])\n",
        "\n"
      ],
      "metadata": {
        "id": "pz54XMnDz1Iu"
      },
      "id": "pz54XMnDz1Iu",
      "execution_count": null,
      "outputs": []
    }
  ],
  "metadata": {
    "kernelspec": {
      "display_name": "Python 3",
      "language": "python",
      "name": "python3"
    },
    "language_info": {
      "codemirror_mode": {
        "name": "ipython",
        "version": 3
      },
      "file_extension": ".py",
      "mimetype": "text/x-python",
      "name": "python",
      "nbconvert_exporter": "python",
      "pygments_lexer": "ipython3",
      "version": "3.9.1"
    },
    "colab": {
      "provenance": [],
      "toc_visible": true,
      "include_colab_link": true
    }
  },
  "nbformat": 4,
  "nbformat_minor": 5
}