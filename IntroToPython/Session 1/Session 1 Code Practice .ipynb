{
  "cells": [
    {
      "cell_type": "markdown",
      "metadata": {
        "id": "view-in-github",
        "colab_type": "text"
      },
      "source": [
        "<a href=\"https://colab.research.google.com/github/TheDataNomad/AlgoWarzmi/blob/main/IntroToPython/Session%201/Session%201%20Code%20Practice%20.ipynb\" target=\"_parent\"><img src=\"https://colab.research.google.com/assets/colab-badge.svg\" alt=\"Open In Colab\"/></a>"
      ]
    },
    {
      "cell_type": "markdown",
      "id": "alive-reservoir",
      "metadata": {
        "id": "alive-reservoir"
      },
      "source": [
        "#### Comments"
      ]
    },
    {
      "cell_type": "code",
      "execution_count": null,
      "id": "amateur-purpose",
      "metadata": {
        "id": "amateur-purpose"
      },
      "outputs": [],
      "source": [
        "#This is how you make a single line comment\n",
        "\n",
        "\"\"\"\n",
        "This is how you can make multiple lines of\n",
        "comments.\n",
        "Line 3\n",
        "Line 4\n",
        "\"\"\"\n",
        "\n",
        "variable = 10 #You can make a single line comment after the code"
      ]
    },
    {
      "cell_type": "markdown",
      "id": "nominated-desperate",
      "metadata": {
        "id": "nominated-desperate"
      },
      "source": [
        "#### Variable declaration"
      ]
    },
    {
      "cell_type": "code",
      "execution_count": null,
      "id": "supreme-going",
      "metadata": {
        "id": "supreme-going"
      },
      "outputs": [],
      "source": [
        "var = 10"
      ]
    },
    {
      "cell_type": "code",
      "execution_count": null,
      "id": "progressive-tiger",
      "metadata": {
        "id": "progressive-tiger"
      },
      "outputs": [],
      "source": [
        "#printing\n",
        "\n",
        "#Tab\n",
        "\n",
        "#new line\n"
      ]
    },
    {
      "cell_type": "code",
      "execution_count": null,
      "id": "diagnostic-potential",
      "metadata": {
        "id": "diagnostic-potential"
      },
      "outputs": [],
      "source": [
        "#formating a print with strings\n"
      ]
    },
    {
      "cell_type": "markdown",
      "id": "naked-watershed",
      "metadata": {
        "id": "naked-watershed"
      },
      "source": [
        "### **Task 1**\n",
        "Create two variables **var1** and assign it to an Integer and **var2** and assign it to a string"
      ]
    },
    {
      "cell_type": "code",
      "execution_count": null,
      "id": "prostate-notification",
      "metadata": {
        "id": "prostate-notification"
      },
      "outputs": [],
      "source": [
        "#Write your code here:\n",
        "\n",
        "\n",
        "\n",
        "\n",
        "\n",
        "\n"
      ]
    },
    {
      "cell_type": "markdown",
      "id": "vertical-republican",
      "metadata": {
        "id": "vertical-republican"
      },
      "source": [
        "#### Arithmetic Operations"
      ]
    },
    {
      "cell_type": "code",
      "execution_count": null,
      "id": "median-symposium",
      "metadata": {
        "id": "median-symposium"
      },
      "outputs": [],
      "source": [
        "# Adding\n"
      ]
    },
    {
      "cell_type": "code",
      "execution_count": null,
      "id": "acute-trout",
      "metadata": {
        "id": "acute-trout"
      },
      "outputs": [],
      "source": [
        "#Strings\n"
      ]
    },
    {
      "cell_type": "code",
      "execution_count": null,
      "id": "banner-morocco",
      "metadata": {
        "id": "banner-morocco"
      },
      "outputs": [],
      "source": [
        "# Multiplication and Division\n",
        "\n",
        "\n",
        "# power\n",
        "\n",
        "\n",
        "#ZeroDivisionError\n"
      ]
    },
    {
      "cell_type": "markdown",
      "id": "accessible-bolivia",
      "metadata": {
        "id": "accessible-bolivia"
      },
      "source": [
        "### Task 2\n",
        "Complete the following code with correct values so that it prints correctly \"This is odd\""
      ]
    },
    {
      "cell_type": "code",
      "execution_count": null,
      "id": "committed-prospect",
      "metadata": {
        "id": "committed-prospect"
      },
      "outputs": [],
      "source": [
        "#Modulus\n",
        "num =  # Enter the correct value here\n",
        "remainder =  # Enter the correct value here\n",
        "\n",
        "\n",
        "\n"
      ]
    },
    {
      "cell_type": "markdown",
      "id": "coupled-decline",
      "metadata": {
        "id": "coupled-decline"
      },
      "source": [
        "# Lists"
      ]
    },
    {
      "cell_type": "code",
      "execution_count": null,
      "id": "balanced-monitoring",
      "metadata": {
        "id": "balanced-monitoring"
      },
      "outputs": [],
      "source": [
        "#Why shouldn't use list as a variable"
      ]
    },
    {
      "cell_type": "code",
      "execution_count": null,
      "id": "limited-mexico",
      "metadata": {
        "id": "limited-mexico"
      },
      "outputs": [],
      "source": [
        "#Declaring lists\n",
        "\n",
        "\n"
      ]
    },
    {
      "cell_type": "code",
      "execution_count": null,
      "id": "statewide-ministry",
      "metadata": {
        "id": "statewide-ministry"
      },
      "outputs": [],
      "source": [
        "# List Methods\n"
      ]
    },
    {
      "cell_type": "code",
      "execution_count": null,
      "id": "liquid-picnic",
      "metadata": {
        "id": "liquid-picnic"
      },
      "outputs": [],
      "source": [
        "x = [1,2,3,4,3,23,23,4,2,3,4,5,4,3]\n",
        "y = [5,6,7,8]\n",
        "\n",
        "#Python Tutor Live Code\n",
        "#x -> id1\n",
        "#y -> id2\n",
        "# id1 ->  [1,2,3,4]\n",
        "# id2 -> [5,6,7,8]"
      ]
    },
    {
      "cell_type": "code",
      "execution_count": null,
      "id": "superb-shelter",
      "metadata": {
        "id": "superb-shelter"
      },
      "outputs": [],
      "source": [
        "#Append Method\n",
        "\n"
      ]
    },
    {
      "cell_type": "code",
      "execution_count": null,
      "id": "national-coral",
      "metadata": {
        "id": "national-coral"
      },
      "outputs": [],
      "source": [
        "#Count Method\n",
        "\n"
      ]
    },
    {
      "cell_type": "code",
      "execution_count": null,
      "id": "continued-fitness",
      "metadata": {
        "id": "continued-fitness"
      },
      "outputs": [],
      "source": [
        "#len function\n",
        "\n"
      ]
    },
    {
      "cell_type": "code",
      "execution_count": null,
      "id": "proprietary-oxide",
      "metadata": {
        "id": "proprietary-oxide"
      },
      "outputs": [],
      "source": [
        "#Indexing\n",
        "#why len(x) is not the end of string\n"
      ]
    },
    {
      "cell_type": "code",
      "execution_count": null,
      "id": "introductory-radical",
      "metadata": {
        "id": "introductory-radical"
      },
      "outputs": [],
      "source": [
        "#How to access the last indices\n",
        "\n",
        "\n",
        "\n"
      ]
    },
    {
      "cell_type": "code",
      "execution_count": null,
      "id": "frequent-tuning",
      "metadata": {
        "id": "frequent-tuning"
      },
      "outputs": [],
      "source": [
        "#How to access multiplespecific indicies\n",
        "\n",
        "\n",
        "\n",
        "#how to access all indicies\n",
        "\n",
        "\n",
        "\n",
        "#How to flip it\n",
        "\n",
        "\n",
        "\n",
        "\n",
        "#incrementing indices\n"
      ]
    },
    {
      "cell_type": "code",
      "execution_count": null,
      "id": "dimensional-twelve",
      "metadata": {
        "id": "dimensional-twelve"
      },
      "outputs": [],
      "source": [
        "#Merge two lists\n",
        "#Don't do append because append is only for one variable\n",
        "x = [1,2,3,4]\n",
        "y = [5,6,7,8]\n",
        "\n"
      ]
    },
    {
      "cell_type": "code",
      "execution_count": null,
      "id": "ignored-arizona",
      "metadata": {
        "id": "ignored-arizona"
      },
      "outputs": [],
      "source": [
        "x = [1,2,3,4]\n",
        "y = [5,6,7,8]\n",
        "\n"
      ]
    },
    {
      "cell_type": "markdown",
      "id": "combined-exchange",
      "metadata": {
        "id": "combined-exchange"
      },
      "source": [
        "### Task 3\n",
        "\n"
      ]
    },
    {
      "cell_type": "code",
      "execution_count": null,
      "id": "engaging-plumbing",
      "metadata": {
        "id": "engaging-plumbing"
      },
      "outputs": [],
      "source": [
        "animalsList = [\"Donkey\",\"Monkey\",\"Lion\",\"Camel\",\"Goat\",\"Whale\",\"Fish\"]\n",
        "StudentAges = [20,20,21,23,23,20,25,22,33,20,21,20]\n",
        "\n",
        "#Find the length of each list\n",
        "animalsListLength =  #Your code here,\n",
        "StudentAgesLength =  #Your code here,\n",
        "\n",
        "#How many Students with the age 20?\n",
        "AgeEqual20 =  #Your Code Here,\n",
        "\n",
        "#Sort the StudentAges and save it here\n",
        "sortedStudentAges =  #Your Code Here\n",
        "\n",
        "#What is the largest value of the studentAges?\n",
        "OldestPerson =  #Your Code Here\n",
        "\n",
        "\n",
        "\n",
        "\n",
        "\n"
      ]
    },
    {
      "cell_type": "markdown",
      "id": "planned-storm",
      "metadata": {
        "id": "planned-storm"
      },
      "source": [
        "# Strings"
      ]
    },
    {
      "cell_type": "code",
      "execution_count": null,
      "id": "beautiful-earthquake",
      "metadata": {
        "id": "beautiful-earthquake"
      },
      "outputs": [],
      "source": [
        "text = \"This is an introductory course to Python\"\n",
        "text = 'This is an introductory course to Python'"
      ]
    },
    {
      "cell_type": "code",
      "execution_count": null,
      "id": "charged-rhythm",
      "metadata": {
        "id": "charged-rhythm"
      },
      "outputs": [],
      "source": [
        "# Escaping Charecters\n",
        "text1= 'I am learning Python. It's awesome'\n",
        "\n",
        "#fixed\n"
      ]
    },
    {
      "cell_type": "code",
      "execution_count": null,
      "id": "conditional-aberdeen",
      "metadata": {
        "id": "conditional-aberdeen"
      },
      "outputs": [],
      "source": [
        "#Methods and functions\n",
        "print(\"Text is lowered: \" +  )\n",
        "print(\"Text is titled: \" +  )\n",
        "print(\"Text is captialized: \" + )\n",
        "\n",
        "print(\"---------\")\n",
        "\n",
        "#joing two strings\n",
        "string1 = \"This is part 1\"\n",
        "string2 = \"This is part 2\"\n",
        "\n",
        "\n",
        "\n",
        "#splitting strings\n",
        "\n",
        "\n",
        "\n",
        "\n",
        "#Joining StringLists\n",
        "\n"
      ]
    },
    {
      "cell_type": "code",
      "execution_count": null,
      "id": "sexual-finish",
      "metadata": {
        "id": "sexual-finish"
      },
      "outputs": [],
      "source": [
        "# searching in strings methods\n",
        "#This returns only true or false\n",
        "\n",
        "\n",
        "\n",
        "\n",
        "\n",
        "\n",
        "\n",
        "#find method return the index where it finds the first letter of the find string\n",
        "\n",
        "\n",
        "\n"
      ]
    },
    {
      "cell_type": "code",
      "execution_count": null,
      "id": "accessible-setup",
      "metadata": {
        "id": "accessible-setup"
      },
      "outputs": [],
      "source": [
        "#indexing\n",
        "#What's the length?\n",
        "print(\"Length of text: \", )\n",
        "\n",
        "\n"
      ]
    },
    {
      "cell_type": "markdown",
      "id": "hydraulic-skirt",
      "metadata": {
        "id": "hydraulic-skirt"
      },
      "source": [
        "### Task 4\n",
        "using the text string below to find the location of \"Python\" index start and store it to **PythonLoc**\n",
        "And print the word \"Python\" 10 times without using loops or writing it by yourself with a space between each word\n",
        "save the string a variable named **Python10**"
      ]
    },
    {
      "cell_type": "code",
      "execution_count": null,
      "id": "empty-progressive",
      "metadata": {
        "id": "empty-progressive"
      },
      "outputs": [],
      "source": [
        "text = \"This is an introductory course giving by Ahmed for Pythoneers who want to learn Python for Data Science\"\n",
        "\n",
        "#Your Beautiful Code Here\n",
        "\n",
        "\n",
        "\n",
        "\n",
        "Python10 =\n",
        "\n"
      ]
    },
    {
      "cell_type": "markdown",
      "source": [
        "# Dicts / Sets"
      ],
      "metadata": {
        "id": "-Mi-f8x4yka4"
      },
      "id": "-Mi-f8x4yka4"
    },
    {
      "cell_type": "code",
      "source": [
        "country_codes_list = [\"US\", \"CA\", \"GB\", \"DE\", \"FR\", \"US\", \"CA\"]  # List allows duplicates\n",
        "country_codes_set = {\"US\", \"CA\", \"GB\", \"DE\", \"FR\", \"US\", \"CA\"}  # Set removes duplicates\n",
        "\n",
        "print(\"List:\", country_codes_list)\n",
        "print(\"Set:\", country_codes_set)\n",
        "\n",
        "# Demonstrating set operations\n",
        "print(\"Number of unique countries in set:\", len(country_codes_set))\n",
        "\n",
        "# Checking if a code exists\n",
        "code_to_check = \"GB\"\n",
        "\n",
        "if code_to_check in country_codes_list:\n",
        "  print(f\"{code_to_check} exists in the list\")\n",
        "\n",
        "if code_to_check in country_codes_set:\n",
        "    print(f\"{code_to_check} exists in the set\")\n",
        "\n",
        "# Adding new country codes to both\n",
        "country_codes_list.append(\"JP\")\n",
        "country_codes_set.add(\"JP\")\n",
        "\n",
        "# Trying to add a duplicate to a set (no effect)\n",
        "country_codes_set.add(\"US\")\n",
        "\n",
        "print(\"\\nList after adding JP:\", country_codes_list)\n",
        "print(\"Set after adding JP:\", country_codes_set)\n",
        "\n",
        "country_codes_set.discard(\"FR\")  # discard() does not raise an error if element not found\n",
        "country_codes_set.discard(\"XX\") # discard() does not raise an error if element not found\n",
        "\n",
        "print(\"\\nList after removing US:\", country_codes_list)\n",
        "print(\"Set after discarding FR:\", country_codes_set)"
      ],
      "metadata": {
        "id": "56HPNX-Myj5F",
        "outputId": "33116654-9d58-4309-815d-1916ff2697ef",
        "colab": {
          "base_uri": "https://localhost:8080/"
        }
      },
      "id": "56HPNX-Myj5F",
      "execution_count": 11,
      "outputs": [
        {
          "output_type": "stream",
          "name": "stdout",
          "text": [
            "List: ['US', 'CA', 'GB', 'DE', 'FR', 'US', 'CA']\n",
            "Set: {'US', 'CA', 'DE', 'GB', 'FR'}\n",
            "Number of unique countries in set: 5\n",
            "GB exists in the list\n",
            "GB exists in the set\n",
            "\n",
            "List after adding JP: ['US', 'CA', 'GB', 'DE', 'FR', 'US', 'CA', 'JP']\n",
            "Set after adding JP: {'US', 'CA', 'DE', 'JP', 'GB', 'FR'}\n",
            "\n",
            "List after removing US: ['US', 'CA', 'GB', 'DE', 'FR', 'US', 'CA', 'JP']\n",
            "Set after discarding FR: {'US', 'CA', 'DE', 'JP', 'GB'}\n"
          ]
        }
      ]
    },
    {
      "cell_type": "code",
      "source": [],
      "metadata": {
        "id": "s3UFfoC9zAn-"
      },
      "id": "s3UFfoC9zAn-",
      "execution_count": null,
      "outputs": []
    }
  ],
  "metadata": {
    "kernelspec": {
      "display_name": "Python 3",
      "language": "python",
      "name": "python3"
    },
    "language_info": {
      "codemirror_mode": {
        "name": "ipython",
        "version": 3
      },
      "file_extension": ".py",
      "mimetype": "text/x-python",
      "name": "python",
      "nbconvert_exporter": "python",
      "pygments_lexer": "ipython3",
      "version": "3.9.1"
    },
    "colab": {
      "provenance": [],
      "toc_visible": true,
      "include_colab_link": true
    }
  },
  "nbformat": 4,
  "nbformat_minor": 5
}