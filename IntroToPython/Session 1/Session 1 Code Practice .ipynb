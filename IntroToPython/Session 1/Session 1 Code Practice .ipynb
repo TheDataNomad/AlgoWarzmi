{
  "cells": [
    {
      "cell_type": "markdown",
      "metadata": {
        "id": "view-in-github",
        "colab_type": "text"
      },
      "source": [
        "<a href=\"https://colab.research.google.com/github/TheDataNomad/AlgoWarzmi/blob/main/IntroToPython/Session%201/Session%201%20Code%20Practice%20.ipynb\" target=\"_parent\"><img src=\"https://colab.research.google.com/assets/colab-badge.svg\" alt=\"Open In Colab\"/></a>"
      ]
    },
    {
      "cell_type": "markdown",
      "id": "nominated-desperate",
      "metadata": {
        "id": "nominated-desperate"
      },
      "source": [
        "#### Variable declaration"
      ]
    },
    {
      "cell_type": "code",
      "execution_count": 1,
      "id": "supreme-going",
      "metadata": {
        "id": "supreme-going"
      },
      "outputs": [],
      "source": [
        "var = 10"
      ]
    },
    {
      "cell_type": "code",
      "execution_count": null,
      "id": "progressive-tiger",
      "metadata": {
        "id": "progressive-tiger"
      },
      "outputs": [],
      "source": [
        "#printing\n",
        "\n",
        "\n",
        "\n"
      ]
    },
    {
      "cell_type": "code",
      "execution_count": null,
      "id": "diagnostic-potential",
      "metadata": {
        "id": "diagnostic-potential"
      },
      "outputs": [],
      "source": [
        "#formating a print with strings\n"
      ]
    },
    {
      "cell_type": "code",
      "source": [
        "### Task One - Introduce Yourself\n",
        "\n",
        "\n",
        "\n"
      ],
      "metadata": {
        "id": "7-A7GuXY7RpQ"
      },
      "id": "7-A7GuXY7RpQ",
      "execution_count": null,
      "outputs": []
    },
    {
      "cell_type": "markdown",
      "id": "alive-reservoir",
      "metadata": {
        "id": "alive-reservoir"
      },
      "source": [
        "#### Comments"
      ]
    },
    {
      "cell_type": "code",
      "execution_count": null,
      "id": "amateur-purpose",
      "metadata": {
        "id": "amateur-purpose"
      },
      "outputs": [],
      "source": [
        "#This is how you make a single line comment\n",
        "\n",
        "\"\"\"\n",
        "This is how you can make multiple lines of\n",
        "comments.\n",
        "Line 3\n",
        "Line 4\n",
        "\"\"\"\n",
        "\n",
        "variable = 10 #You can make a single line comment after the code"
      ]
    },
    {
      "cell_type": "markdown",
      "id": "vertical-republican",
      "metadata": {
        "id": "vertical-republican"
      },
      "source": [
        "#### Arithmetic Operations"
      ]
    },
    {
      "cell_type": "code",
      "execution_count": null,
      "id": "median-symposium",
      "metadata": {
        "id": "median-symposium"
      },
      "outputs": [],
      "source": [
        "# Adding\n"
      ]
    },
    {
      "cell_type": "code",
      "execution_count": null,
      "id": "acute-trout",
      "metadata": {
        "id": "acute-trout"
      },
      "outputs": [],
      "source": [
        "#Strings\n"
      ]
    },
    {
      "cell_type": "code",
      "execution_count": null,
      "id": "banner-morocco",
      "metadata": {
        "id": "banner-morocco"
      },
      "outputs": [],
      "source": [
        "# Multiplication and Division\n",
        "\n",
        "\n",
        "\n",
        "\n",
        "# power\n",
        "\n",
        "\n",
        "\n",
        "\n",
        "\n",
        "\n",
        "#ZeroDivisionError\n"
      ]
    },
    {
      "cell_type": "markdown",
      "id": "accessible-bolivia",
      "metadata": {
        "id": "accessible-bolivia"
      },
      "source": [
        "### Task 2\n",
        "Complete the following code with correct values so that it prints correctly \"This is odd\""
      ]
    },
    {
      "cell_type": "code",
      "execution_count": null,
      "id": "committed-prospect",
      "metadata": {
        "id": "committed-prospect"
      },
      "outputs": [],
      "source": [
        "#Modulus\n",
        "num =  # Enter the correct value here\n",
        "remainder =  # Enter the correct value here\n",
        "\n",
        "\n",
        "\n"
      ]
    },
    {
      "cell_type": "markdown",
      "id": "coupled-decline",
      "metadata": {
        "id": "coupled-decline"
      },
      "source": [
        "# Lists"
      ]
    },
    {
      "cell_type": "code",
      "execution_count": null,
      "id": "balanced-monitoring",
      "metadata": {
        "id": "balanced-monitoring"
      },
      "outputs": [],
      "source": [
        "#Why shouldn't use list as a variable"
      ]
    },
    {
      "cell_type": "code",
      "execution_count": null,
      "id": "limited-mexico",
      "metadata": {
        "id": "limited-mexico"
      },
      "outputs": [],
      "source": [
        "#Declaring lists\n",
        "\n",
        "\n"
      ]
    },
    {
      "cell_type": "code",
      "execution_count": null,
      "id": "statewide-ministry",
      "metadata": {
        "id": "statewide-ministry"
      },
      "outputs": [],
      "source": [
        "# List Methods\n"
      ]
    },
    {
      "cell_type": "code",
      "execution_count": null,
      "id": "liquid-picnic",
      "metadata": {
        "id": "liquid-picnic"
      },
      "outputs": [],
      "source": [
        "x = [1,2,3,4,3,23,23,4,2,3,4,5,4,3]\n",
        "y = [5,6,7,8]\n",
        "\n",
        "#Python Tutor Live Code\n",
        "#x -> id1\n",
        "#y -> id2\n",
        "# id1 ->  [1,2,3,4]\n",
        "# id2 -> [5,6,7,8]"
      ]
    },
    {
      "cell_type": "code",
      "execution_count": null,
      "id": "superb-shelter",
      "metadata": {
        "id": "superb-shelter"
      },
      "outputs": [],
      "source": [
        "#Append Method\n",
        "\n"
      ]
    },
    {
      "cell_type": "code",
      "source": [
        "#insert Method\n",
        "\n"
      ],
      "metadata": {
        "id": "SqHzxOTP0snV"
      },
      "id": "SqHzxOTP0snV",
      "execution_count": null,
      "outputs": []
    },
    {
      "cell_type": "code",
      "execution_count": null,
      "id": "national-coral",
      "metadata": {
        "id": "national-coral"
      },
      "outputs": [],
      "source": [
        "#Count Method\n",
        "\n"
      ]
    },
    {
      "cell_type": "code",
      "execution_count": null,
      "id": "continued-fitness",
      "metadata": {
        "id": "continued-fitness"
      },
      "outputs": [],
      "source": [
        "#len function\n",
        "\n"
      ]
    },
    {
      "cell_type": "code",
      "execution_count": null,
      "id": "proprietary-oxide",
      "metadata": {
        "id": "proprietary-oxide"
      },
      "outputs": [],
      "source": [
        "#Indexing\n",
        "#why len(x) is not the end of string\n"
      ]
    },
    {
      "cell_type": "code",
      "execution_count": null,
      "id": "introductory-radical",
      "metadata": {
        "id": "introductory-radical"
      },
      "outputs": [],
      "source": [
        "#How to access the last indices\n",
        "\n",
        "\n",
        "\n"
      ]
    },
    {
      "cell_type": "code",
      "execution_count": null,
      "id": "frequent-tuning",
      "metadata": {
        "id": "frequent-tuning"
      },
      "outputs": [],
      "source": [
        "#How to access multiplespecific indicies\n",
        "\n",
        "\n",
        "\n",
        "#how to access all indicies\n",
        "\n",
        "\n",
        "\n",
        "#How to flip it\n",
        "\n",
        "\n",
        "\n",
        "\n",
        "#incrementing indices\n"
      ]
    },
    {
      "cell_type": "code",
      "source": [
        "#copy method\n",
        "\n"
      ],
      "metadata": {
        "id": "tLKPnQ1X08vZ"
      },
      "id": "tLKPnQ1X08vZ",
      "execution_count": null,
      "outputs": []
    },
    {
      "cell_type": "code",
      "execution_count": null,
      "id": "dimensional-twelve",
      "metadata": {
        "id": "dimensional-twelve"
      },
      "outputs": [],
      "source": [
        "#Merge two lists\n",
        "#Don't do append because append is only for one variable\n",
        "x = [1,2,3,4]\n",
        "y = [5,6,7,8]\n",
        "\n"
      ]
    },
    {
      "cell_type": "code",
      "execution_count": null,
      "id": "ignored-arizona",
      "metadata": {
        "id": "ignored-arizona"
      },
      "outputs": [],
      "source": [
        "x = [1,2,3,4]\n",
        "y = [5,6,7,8]\n",
        "\n"
      ]
    },
    {
      "cell_type": "markdown",
      "id": "combined-exchange",
      "metadata": {
        "id": "combined-exchange"
      },
      "source": [
        "### Task 3\n",
        "\n"
      ]
    },
    {
      "cell_type": "code",
      "execution_count": null,
      "id": "engaging-plumbing",
      "metadata": {
        "id": "engaging-plumbing"
      },
      "outputs": [],
      "source": [
        "animalsList = [\"Donkey\",\"Monkey\",\"Lion\",\"Camel\",\"Goat\",\"Whale\",\"Fish\"]\n",
        "StudentAges = [20,20,21,23,23,20,25,22,33,20,21,20]\n",
        "\n",
        "#Find the length of each list\n",
        "animalsListLength =  #Your code here,\n",
        "StudentAgesLength =  #Your code here,\n",
        "\n",
        "#How many Students with the age 20?\n",
        "AgeEqual20 =  #Your Code Here,\n",
        "\n",
        "#Sort the StudentAges and save it here\n",
        "sortedStudentAges =  #Your Code Here\n",
        "\n",
        "#What is the largest value of the studentAges?\n",
        "OldestPerson =  #Your Code Here\n",
        "\n",
        "\n",
        "\n",
        "\n",
        "\n"
      ]
    },
    {
      "cell_type": "markdown",
      "id": "planned-storm",
      "metadata": {
        "id": "planned-storm"
      },
      "source": [
        "# Strings"
      ]
    },
    {
      "cell_type": "code",
      "execution_count": null,
      "id": "beautiful-earthquake",
      "metadata": {
        "id": "beautiful-earthquake"
      },
      "outputs": [],
      "source": [
        "text = \"This is an introductory course to Python\"\n",
        "text = 'This is an introductory course to Python'"
      ]
    },
    {
      "cell_type": "code",
      "execution_count": null,
      "id": "charged-rhythm",
      "metadata": {
        "id": "charged-rhythm"
      },
      "outputs": [],
      "source": [
        "# Escaping Charecters\n",
        "text1= 'I am learning Python. It's awesome'\n",
        "\n",
        "#fixed\n"
      ]
    },
    {
      "cell_type": "code",
      "execution_count": null,
      "id": "conditional-aberdeen",
      "metadata": {
        "id": "conditional-aberdeen"
      },
      "outputs": [],
      "source": [
        "#Methods and functions\n",
        "print(\"Text is lowered: \" +  )\n",
        "print(\"Text is titled: \" +  )\n",
        "print(\"Text is captialized: \" + )\n",
        "\n",
        "print(\"---------\")\n",
        "\n",
        "#joing two strings\n",
        "string1 = \"This is part 1\"\n",
        "string2 = \"This is part 2\"\n",
        "\n",
        "\n",
        "\n",
        "#splitting strings\n",
        "\n",
        "\n",
        "\n",
        "\n",
        "#Joining StringLists\n",
        "\n"
      ]
    },
    {
      "cell_type": "code",
      "execution_count": null,
      "id": "sexual-finish",
      "metadata": {
        "id": "sexual-finish"
      },
      "outputs": [],
      "source": [
        "# searching in strings methods\n",
        "#This returns only true or false\n",
        "\n",
        "\n",
        "\n",
        "\n",
        "\n",
        "\n",
        "\n",
        "#find method return the index where it finds the first letter of the find string\n",
        "\n",
        "\n",
        "\n"
      ]
    },
    {
      "cell_type": "code",
      "execution_count": null,
      "id": "accessible-setup",
      "metadata": {
        "id": "accessible-setup"
      },
      "outputs": [],
      "source": [
        "#indexing\n",
        "#What's the length?\n",
        "print(\"Length of text: \", )\n",
        "\n",
        "\n"
      ]
    },
    {
      "cell_type": "markdown",
      "id": "hydraulic-skirt",
      "metadata": {
        "id": "hydraulic-skirt"
      },
      "source": [
        "### Task 4\n",
        "using the text string below to find the location of \"Python\" index start and store it to **PythonLoc**\n",
        "And print the word \"Python\" 10 times without using loops or writing it by yourself with a space between each word\n",
        "save the string a variable named **Python10**"
      ]
    },
    {
      "cell_type": "code",
      "execution_count": null,
      "id": "empty-progressive",
      "metadata": {
        "id": "empty-progressive"
      },
      "outputs": [],
      "source": [
        "text = \"This is an introductory course giving by Ahmed for Pythoneers who want to learn Python for Data Science\"\n",
        "\n",
        "#Your Beautiful Code Here\n",
        "\n",
        "\n",
        "\n",
        "\n",
        "Python10 =\n",
        "\n"
      ]
    },
    {
      "cell_type": "markdown",
      "source": [
        "# Dicts / Sets"
      ],
      "metadata": {
        "id": "-Mi-f8x4yka4"
      },
      "id": "-Mi-f8x4yka4"
    },
    {
      "cell_type": "code",
      "source": [
        "## What's the difference between those two?\n",
        "\n",
        "country_codes_list = [\"OM\", \"US\", \"GB\", \"DE\", \"QA\", \"OM\", \"CA\"]  # List allows duplicates\n",
        "country_codes_set = {\"OM\", \"US\", \"GB\", \"DE\", \"QA\", \"OM\", \"CA\"}  # Set removes duplicates"
      ],
      "metadata": {
        "id": "56HPNX-Myj5F"
      },
      "id": "56HPNX-Myj5F",
      "execution_count": null,
      "outputs": []
    },
    {
      "cell_type": "code",
      "source": [
        "country_codes_list = [\"OM\", \"US\", \"GB\", \"DE\", \"QA\", \"OM\", \"CA\"]  # List allows duplicates\n",
        "country_codes_set = {\"OM\", \"US\", \"GB\", \"DE\", \"QA\", \"OM\", \"CA\"}  # Set removes duplicates\n",
        "\n",
        "print(\"List:\", country_codes_list)\n",
        "print(\"Set:\", country_codes_set)\n",
        "\n",
        "# Demonstrating set operations\n",
        "print(\"Number of unique countries in set:\", len(country_codes_set))\n",
        "\n",
        "# Adding new country codes to both\n",
        "country_codes_list.append(\"JP\")\n",
        "country_codes_set.add(\"JP\")\n",
        "\n",
        "# Trying to add a duplicate to a set (no effect)\n",
        "country_codes_set.add(\"US\")\n",
        "\n",
        "print(\"\\nList after adding JP:\", country_codes_list)\n",
        "print(\"Set after adding JP:\", country_codes_set)\n",
        "\n",
        "country_codes_set.discard(\"FR\")  # discard() does not raise an error if element not found\n",
        "country_codes_set.discard(\"XX\") # discard() does not raise an error if element not found\n",
        "\n",
        "print(\"\\nList after removing US:\", country_codes_list)\n",
        "print(\"Set after discarding FR:\", country_codes_set)"
      ],
      "metadata": {
        "id": "vMdJq6cSzWQe"
      },
      "id": "vMdJq6cSzWQe",
      "execution_count": null,
      "outputs": []
    },
    {
      "cell_type": "code",
      "source": [
        "# Example of a Python dictionary\n",
        "my_dict = {\n",
        "    \"name\": \"Alice\",\n",
        "    \"age\": 30,\n",
        "    \"city\": \"New York\"\n",
        "}"
      ],
      "metadata": {
        "id": "s3UFfoC9zAn-"
      },
      "id": "s3UFfoC9zAn-",
      "execution_count": null,
      "outputs": []
    },
    {
      "cell_type": "code",
      "source": [
        "# Accessing elements\n",
        "print(my_dict[\"name\"])\n",
        "print(my_dict.get(\"age\"))"
      ],
      "metadata": {
        "id": "9TAZCPVbzsQX"
      },
      "id": "9TAZCPVbzsQX",
      "execution_count": null,
      "outputs": []
    },
    {
      "cell_type": "code",
      "source": [
        "# Modifying elements\n",
        "my_dict[\"age\"] = 31\n",
        "print(my_dict)"
      ],
      "metadata": {
        "id": "r05PuXPHztsB"
      },
      "id": "r05PuXPHztsB",
      "execution_count": null,
      "outputs": []
    },
    {
      "cell_type": "code",
      "source": [
        "# Adding elements\n",
        "my_dict[\"occupation\"] = \"Engineer\"\n",
        "print(my_dict)"
      ],
      "metadata": {
        "id": "iwn86PIvzu8N"
      },
      "id": "iwn86PIvzu8N",
      "execution_count": null,
      "outputs": []
    },
    {
      "cell_type": "markdown",
      "source": [
        "## Task Dict"
      ],
      "metadata": {
        "id": "3vxKFC1Jz9Kw"
      },
      "id": "3vxKFC1Jz9Kw"
    },
    {
      "cell_type": "code",
      "source": [
        "# Complex Dictionary Example\n",
        "student_data = {\n",
        "    \"students\": [\n",
        "        {\"name\": \"Alice\", \"id\": 101, \"grades\": {\"math\": 85, \"science\": 92, \"english\": 78}},\n",
        "        {\"name\": \"Bob\", \"id\": 102, \"grades\": {\"math\": 90, \"science\": 88, \"english\": 95}},\n",
        "        {\"name\": \"Charlie\", \"id\": 103, \"grades\": {\"math\": 76, \"science\": 80, \"english\": 85}},\n",
        "        {\"name\": \"David\", \"id\": 104, \"grades\": {\"math\": 92, \"science\": 95, \"english\": 88}},\n",
        "    ],\n",
        "    \"courses\": [\"Math\", \"Science\", \"English\"],\n",
        "    \"average_grade\": 85.5\n",
        "}\n",
        "\n",
        "\n",
        "# Your Tasks\n",
        "\n",
        "# 1. Accessing Data:\n",
        "# Print Alice's math grade.\n",
        "alice_math_grade =\n",
        "print(f\"Alice's math grade: {alice_math_grade}\")\n",
        "\n",
        "\n",
        "# 2. Data Modification:\n",
        "# Add a new student, \"Eve\", with id 105 and grades: math=88, science=90, english=92.\n",
        "new_student =\n",
        "student_data[\"students\"].append(new_student)\n",
        "\n",
        "# Print updated student list to verify addition\n",
        "print(student_data[\"students\"])\n",
        "\n"
      ],
      "metadata": {
        "id": "pz54XMnDz1Iu"
      },
      "id": "pz54XMnDz1Iu",
      "execution_count": null,
      "outputs": []
    }
  ],
  "metadata": {
    "kernelspec": {
      "display_name": "Python 3",
      "language": "python",
      "name": "python3"
    },
    "language_info": {
      "codemirror_mode": {
        "name": "ipython",
        "version": 3
      },
      "file_extension": ".py",
      "mimetype": "text/x-python",
      "name": "python",
      "nbconvert_exporter": "python",
      "pygments_lexer": "ipython3",
      "version": "3.9.1"
    },
    "colab": {
      "provenance": [],
      "toc_visible": true,
      "include_colab_link": true
    }
  },
  "nbformat": 4,
  "nbformat_minor": 5
}