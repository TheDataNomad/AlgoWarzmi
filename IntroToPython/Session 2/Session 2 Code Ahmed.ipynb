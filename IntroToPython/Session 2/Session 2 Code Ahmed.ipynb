{
 "cells": [
  {
   "cell_type": "markdown",
   "id": "informed-favor",
   "metadata": {},
   "source": [
    "# Session 2"
   ]
  },
  {
   "cell_type": "code",
   "execution_count": 1,
   "id": "perfect-conference",
   "metadata": {},
   "outputs": [
    {
     "name": "stdout",
     "output_type": "stream",
     "text": [
      "<class 'bool'>\n"
     ]
    }
   ],
   "source": [
    "#Boolean Values\n",
    "\n",
    "is_true = True\n",
    "is_false = False\n",
    "\n",
    "print(type(is_true))"
   ]
  },
  {
   "cell_type": "markdown",
   "id": "better-leonard",
   "metadata": {},
   "source": [
    "#### comparison Operators\n",
    "     < less than\n",
    "     > greater than\n",
    "     <= less than or equal to\n",
    "     >= greater than or equal too\n",
    "     == Equal Operator -> can be used to compare any datatype (strings,lists,integers etc...)\n",
    "     != Not Equal Operator "
   ]
  },
  {
   "cell_type": "code",
   "execution_count": 2,
   "id": "actual-steal",
   "metadata": {},
   "outputs": [
    {
     "name": "stdout",
     "output_type": "stream",
     "text": [
      "Practice 1:  True\n",
      "Practice 2:  False\n",
      "Practice 3:  False\n",
      "Practice 4:  True\n",
      "Practice 5:  True\n"
     ]
    }
   ],
   "source": [
    "a = 2\n",
    "b = 3\n",
    "\n",
    "print(\"Practice 1: \",a < b) \n",
    "print(\"Practice 2: \",a > b)\n",
    "print(\"Practice 3: \",a >= b)\n",
    "print(\"Practice 4: \",a <= b)\n",
    "print(\"Practice 5: \",a <= a)"
   ]
  },
  {
   "cell_type": "code",
   "execution_count": 5,
   "id": "fuzzy-proportion",
   "metadata": {},
   "outputs": [
    {
     "name": "stdout",
     "output_type": "stream",
     "text": [
      "False\n"
     ]
    }
   ],
   "source": [
    "print(True == False)"
   ]
  },
  {
   "cell_type": "code",
   "execution_count": 7,
   "id": "impressive-recruitment",
   "metadata": {},
   "outputs": [
    {
     "name": "stdout",
     "output_type": "stream",
     "text": [
      "Practice 1:  True\n",
      "Practice 2:  True\n",
      "Practice 3:  False\n",
      "Practice 4:  True\n",
      "Practice 5:  True\n",
      "Practice 6:  True\n"
     ]
    }
   ],
   "source": [
    "# Equal operator \n",
    "\n",
    "print(\"Practice 1: \",'Yes' == 'Yes')\n",
    "print(\"Practice 2: \",(2 > 1) == (5 < 10))\n",
    "print(\"Practice 3: \",'2' == 2)\n",
    "print(\"Practice 4: \",[1,2,3] == [1,2,3])\n",
    "print(\"Practice 5: \",[1,2,3] == sorted([3,2,1]))\n",
    "\n",
    "# Not Equals Operator\n",
    "print(\"Practice 6: \", \"Yes\" != \"No\")"
   ]
  },
  {
   "cell_type": "markdown",
   "id": "guided-marina",
   "metadata": {},
   "source": [
    "    The Python ***or*** operator combines two Boolean expressions and will evaluate to True if at least one of  the expressions is True. It will return False if both expressions are False."
   ]
  },
  {
   "cell_type": "code",
   "execution_count": 9,
   "id": "removed-regression",
   "metadata": {},
   "outputs": [
    {
     "name": "stdout",
     "output_type": "stream",
     "text": [
      "1:  True\n",
      "2:  True\n",
      "3:  False\n",
      "Practice 1:  True\n",
      "Practice 2:  True\n",
      "Practice 3:  True\n"
     ]
    }
   ],
   "source": [
    "print(\"1: \",True or True)\n",
    "print(\"2: \",True or False)\n",
    "print(\"3: \",False or False)\n",
    "\n",
    "#practice\n",
    "print(\"Practice 1: \",1<2 or 3<1)\n",
    "print(\"Practice 2: \",3<1 or 1>6 or 4 > 2)\n",
    "print(\"Practice 3: \", 1==1 or 1<2 )"
   ]
  },
  {
   "cell_type": "markdown",
   "id": "centered-relief",
   "metadata": {},
   "source": [
    "    The Python ***and** operator performs a Boolean comparison between two Boolean values, variables, or expressions similar to the ***or***. If both sides of the operator evaluate to True then the and operator returns True. If  either expressions or both evaluates to False , then the and it will return False."
   ]
  },
  {
   "cell_type": "code",
   "execution_count": 11,
   "id": "framed-education",
   "metadata": {},
   "outputs": [
    {
     "name": "stdout",
     "output_type": "stream",
     "text": [
      "1:  True\n",
      "2:  False\n",
      "3:  False\n",
      "Practice 1:  False\n",
      "Practice 2:  False\n",
      "Practice 3:  False\n"
     ]
    }
   ],
   "source": [
    "print(\"1: \",True and True)\n",
    "print(\"2: \",True and False)\n",
    "print(\"3: \",False and False)\n",
    "\n",
    "#practice\n",
    "print(\"Practice 1: \", 1==1 and 1<2 and 4 > 10)\n",
    "print(\"Practice 2: \",3<1 and 1>6)\n",
    "print(\"Practice 3: \", 1 ==2 and 3>1)"
   ]
  },
  {
   "cell_type": "markdown",
   "id": "romance-biology",
   "metadata": {},
   "source": [
    "### if Statementns - Control Flow\n",
    "\n",
    "    The Python if statement is used to determine the execution of code based on the evaluation of a Boolean         expression.\n",
    "    \n",
    "    if <expression is true>:\n",
    "       <action statement is executed>"
   ]
  },
  {
   "cell_type": "code",
   "execution_count": 24,
   "id": "distributed-editing",
   "metadata": {},
   "outputs": [
    {
     "name": "stdout",
     "output_type": "stream",
     "text": [
      "Ahmed\n"
     ]
    }
   ],
   "source": [
    "if \"Yes\" != \"Yes\":\n",
    "    print(\"It is a Yes\")\n",
    "    \n",
    "print(\"Ahmed\")"
   ]
  },
  {
   "cell_type": "markdown",
   "id": "august-export",
   "metadata": {},
   "source": [
    "### if Statement"
   ]
  },
  {
   "cell_type": "code",
   "execution_count": 18,
   "id": "chicken-psychiatry",
   "metadata": {},
   "outputs": [
    {
     "name": "stdout",
     "output_type": "stream",
     "text": [
      "This code is executed!\n",
      "Program continues at this point.\n"
     ]
    }
   ],
   "source": [
    "# if Statement\n",
    "\n",
    "test_value = 1000\n",
    "\n",
    "if test_value > 1:\n",
    "  # Expression evaluates to True\n",
    "  print(\"This code is executed!\")\n",
    "    \n",
    "    \n",
    "if test_value > 1000:\n",
    "  # Expression evaluates to False\n",
    "  print(\"1000: This code is executed!\")\n",
    "    \n",
    "print(\"Program continues at this point.\")"
   ]
  },
  {
   "cell_type": "markdown",
   "id": "streaming-effects",
   "metadata": {},
   "source": [
    "### else Statement\n",
    "    The Python else statement provides alternate code to execute if the expression in an if statement evaluates to  False\n",
    "    \n",
    "    if <expression is false>:\n",
    "       <action statement is NOT executed>\n",
    "    else:\n",
    "       <action statement is executed>"
   ]
  },
  {
   "cell_type": "code",
   "execution_count": 30,
   "id": "impossible-stock",
   "metadata": {},
   "outputs": [
    {
     "name": "stdout",
     "output_type": "stream",
     "text": [
      "String equals something else!\n"
     ]
    }
   ],
   "source": [
    "# else Statement \n",
    "\n",
    "# test_value = -100\n",
    "# if test_value < 0:\n",
    "#     print(\"Value is negative\")\n",
    "# else:\n",
    "#     print(\"Value is postive\")\n",
    "    \n",
    "    \n",
    "    \n",
    "test_string = \"VALID\"\n",
    "\n",
    "if test_string == \"NOT_VALID\":\n",
    "    print(\"String equals NOT_VALID\")\n",
    "else:\n",
    "    print(\"String equals something else!\")"
   ]
  },
  {
   "cell_type": "code",
   "execution_count": null,
   "id": "imposed-implement",
   "metadata": {},
   "outputs": [],
   "source": []
  },
  {
   "cell_type": "code",
   "execution_count": 34,
   "id": "addressed-minnesota",
   "metadata": {},
   "outputs": [
    {
     "name": "stdout",
     "output_type": "stream",
     "text": [
      "Python is not in text\n"
     ]
    }
   ],
   "source": [
    "text = \"This code is written in Python\"\n",
    "if \"Python\" in text and 1>2:\n",
    "    print(\"Python is in text\")\n",
    "else:\n",
    "    print(\"Python is not in text\")"
   ]
  },
  {
   "cell_type": "markdown",
   "id": "tribal-rouge",
   "metadata": {},
   "source": [
    "### elif Statement\n",
    "\n",
    "    The Python elif statement allows for continued checks to be performed after an initial if statement. An elif       statement differs from the else statement because another expression is provided to be checked, just as with the   initial if statement."
   ]
  },
  {
   "cell_type": "code",
   "execution_count": 38,
   "id": "stretch-shepherd",
   "metadata": {},
   "outputs": [
    {
     "name": "stdout",
     "output_type": "stream",
     "text": [
      "You have a dog, buy meat\n"
     ]
    }
   ],
   "source": [
    "pet_type = \"dog\"\n",
    "\n",
    "if pet_type == \"dog\":\n",
    "    print(\"You have a dog, buy meat\")\n",
    "elif pet_type == \"cat\":\n",
    "    print(\"You have a cat, buy whiskers\")\n",
    "elif pet_type == \"fish\":\n",
    "    print(\"You have a fish, buy fish food\")\n",
    "else:\n",
    "    print(\"Not sure!\")"
   ]
  },
  {
   "cell_type": "markdown",
   "id": "iraqi-korean",
   "metadata": {},
   "source": [
    "# Task 1"
   ]
  },
  {
   "cell_type": "code",
   "execution_count": null,
   "id": "computational-green",
   "metadata": {},
   "outputs": [],
   "source": []
  },
  {
   "cell_type": "markdown",
   "id": "annual-installation",
   "metadata": {},
   "source": [
    "# Loops\n",
    "## for Loops\n",
    "\n",
    "    A Python for loop can be used to iterate over a list of items and perform a set of actions on each item.        The syntax of a for loop consists of assigning a temporary value to a variable on each successive iteration.\n",
    "    \n",
    "    for <temporary variable> in <list variable>:\n",
    "      <action statement>\n",
    "      <action statement>"
   ]
  },
  {
   "cell_type": "markdown",
   "id": "governmental-andrews",
   "metadata": {},
   "source": [
    "![ForLoop](forloop.gif)"
   ]
  },
  {
   "cell_type": "code",
   "execution_count": 43,
   "id": "broadband-astrology",
   "metadata": {},
   "outputs": [
    {
     "name": "stdout",
     "output_type": "stream",
     "text": [
      "1\n",
      "2\n",
      "3\n",
      "4\n",
      "5\n"
     ]
    }
   ],
   "source": [
    "#each num in nums will be printed below\n",
    "nums = [1,2,3,4,5]\n",
    "nums2 = [4,5,6,7,3]\n",
    "#For loop animation\n",
    "\n",
    "for num in nums:\n",
    "    print(num)"
   ]
  },
  {
   "cell_type": "markdown",
   "id": "correct-sodium",
   "metadata": {},
   "source": [
    " ### Python Loop with range() function"
   ]
  },
  {
   "cell_type": "code",
   "execution_count": 46,
   "id": "smoking-black",
   "metadata": {},
   "outputs": [
    {
     "name": "stdout",
     "output_type": "stream",
     "text": [
      "5\n",
      "7\n",
      "9\n",
      "11\n",
      "8\n",
      "WARNING\n",
      "WARNING\n",
      "WARNING\n"
     ]
    }
   ],
   "source": [
    "# Print the numbers 0, 1, 2:\n",
    "for i in range(5):\n",
    "    print(nums[i]+nums2[i])\n",
    "    \n",
    "# Print \"WARNING\" 3 times:\n",
    "for i in range(3):\n",
    "    print(\"WARNING\")\n",
    "    "
   ]
  },
  {
   "cell_type": "markdown",
   "id": "actual-crown",
   "metadata": {},
   "source": [
    "# Task 2\n",
    "    print the numbers in the list num using range\n"
   ]
  },
  {
   "cell_type": "code",
   "execution_count": 38,
   "id": "animal-trader",
   "metadata": {},
   "outputs": [],
   "source": [
    "# Your Code Here\n",
    "nums = [1,2,3,4,5]\n"
   ]
  },
  {
   "cell_type": "markdown",
   "id": "pressing-enhancement",
   "metadata": {},
   "source": [
    "#### The Python continue Keyword\n",
    "    In Python, the continue keyword is used inside a loop to skip the remaining code inside the loop code block and begin the next loop iteration."
   ]
  },
  {
   "cell_type": "code",
   "execution_count": 57,
   "id": "dietary-movement",
   "metadata": {},
   "outputs": [
    {
     "name": "stdout",
     "output_type": "stream",
     "text": [
      "1\n",
      "2\n",
      "1\n",
      "4\n"
     ]
    }
   ],
   "source": [
    "nums_list = [1, 2, 1, 4, -5,5, 2, -9]\n",
    "# Print only positive numbers:\n",
    "\n",
    "for num in nums_list:\n",
    "    if num < 0:\n",
    "        break\n",
    "        \n",
    "    print(num)\n",
    "    \n",
    "    \n",
    "# print(\"Method 2\")\n",
    "# for i in nums_list:\n",
    "#     if i > 0:\n",
    "#         print(i)\n",
    "    "
   ]
  },
  {
   "cell_type": "markdown",
   "id": "prerequisite-intranet",
   "metadata": {},
   "source": [
    "#### break Keyword\n",
    "    In a loop, the break keyword escapes the loop, regardless of the iteration number. Once break executes, the     program will continue to execute after the loop."
   ]
  },
  {
   "cell_type": "code",
   "execution_count": 56,
   "id": "developing-newsletter",
   "metadata": {},
   "outputs": [
    {
     "name": "stdout",
     "output_type": "stream",
     "text": [
      "0\n",
      "254\n",
      "2\n",
      "Negative number detected!\n"
     ]
    }
   ],
   "source": [
    "numbers = [0, 254, 2, -1, 3]\n",
    "for num in numbers:\n",
    "    if (num < 0):\n",
    "        print(\"Negative number detected!\")\n",
    "        break\n",
    "    else:\n",
    "        print(num)\n"
   ]
  },
  {
   "cell_type": "markdown",
   "id": "suburban-malaysia",
   "metadata": {},
   "source": [
    "# Python while Loops\n",
    "    The while loop will repeatedly execute a code block as long as a condition evaluates to True ."
   ]
  },
  {
   "cell_type": "code",
   "execution_count": 59,
   "id": "russian-spending",
   "metadata": {},
   "outputs": [
    {
     "name": "stdout",
     "output_type": "stream",
     "text": [
      "Time to eat!\n",
      "1\n",
      "2\n",
      "3\n",
      "4\n",
      "5\n"
     ]
    }
   ],
   "source": [
    "# This loop will only run 1 time\n",
    "hungry = True\n",
    "while hungry:\n",
    "    print(\"Time to eat!\")\n",
    "    hungry = False\n",
    "        \n",
    "# # This loop will run 5 times\n",
    "i=1\n",
    "while i < 6:\n",
    "    print(i) \n",
    "    i+=1"
   ]
  },
  {
   "cell_type": "code",
   "execution_count": null,
   "id": "written-roberts",
   "metadata": {},
   "outputs": [],
   "source": []
  },
  {
   "cell_type": "markdown",
   "id": "bizarre-boring",
   "metadata": {},
   "source": [
    "# Extra on  Loops\n"
   ]
  },
  {
   "cell_type": "code",
   "execution_count": 66,
   "id": "athletic-navigator",
   "metadata": {},
   "outputs": [
    {
     "data": {
      "text/plain": [
       "'Feynman'"
      ]
     },
     "execution_count": 66,
     "metadata": {},
     "output_type": "execute_result"
    }
   ],
   "source": [
    "# Nested Loops\n",
    "\n",
    "groups = [[\"Jobs\", \"Gates\"], [\"Newton\", \"Euclid\"], [\"Einstein\",\"Feynman\"]]\n",
    "\n",
    "\n",
    "# This outer loop will iterate over each list in the groups list\n",
    "for group in groups:\n",
    "  # This inner loop will go through each name in each list\n",
    "  for name in group:\n",
    "    print(name)\n",
    "    \n",
    "    "
   ]
  },
  {
   "cell_type": "code",
   "execution_count": 50,
   "id": "dried-craft",
   "metadata": {},
   "outputs": [
    {
     "name": "stdout",
     "output_type": "stream",
     "text": [
      "[1, 4, 9, 16, 25, 36, 49, 64, 81]\n"
     ]
    }
   ],
   "source": [
    "# List comprehension \n",
    "\n",
    "squares_list = [x**2 for x in range(1,10)]\n",
    "print(squares_list)"
   ]
  },
  {
   "cell_type": "code",
   "execution_count": null,
   "id": "handed-performer",
   "metadata": {},
   "outputs": [],
   "source": [
    "# Task 3\n",
    "\n",
    "lstTwo= [x for x in lstOne if x>0 ]\n",
    "\n",
    "ListVariable = [valuetobeappended for value in list if statament]\n",
    "\n",
    "\n"
   ]
  }
 ],
 "metadata": {
  "kernelspec": {
   "display_name": "Python 3",
   "language": "python",
   "name": "python3"
  },
  "language_info": {
   "codemirror_mode": {
    "name": "ipython",
    "version": 3
   },
   "file_extension": ".py",
   "mimetype": "text/x-python",
   "name": "python",
   "nbconvert_exporter": "python",
   "pygments_lexer": "ipython3",
   "version": "3.9.1"
  }
 },
 "nbformat": 4,
 "nbformat_minor": 5
}
