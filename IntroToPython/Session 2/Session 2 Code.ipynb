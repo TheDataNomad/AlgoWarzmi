{
  "cells": [
    {
      "cell_type": "markdown",
      "id": "informed-favor",
      "metadata": {
        "id": "informed-favor"
      },
      "source": [
        "# Session 2"
      ]
    },
    {
      "cell_type": "code",
      "execution_count": null,
      "id": "perfect-conference",
      "metadata": {
        "id": "perfect-conference",
        "outputId": "40f066d0-e18a-4958-85a8-a0f56d1a3ece"
      },
      "outputs": [
        {
          "name": "stdout",
          "output_type": "stream",
          "text": [
            "<class 'bool'>\n"
          ]
        }
      ],
      "source": [
        "#Boolean Values\n",
        "\n",
        "is_true = True\n",
        "is_false = False\n",
        "\n",
        "print(type(is_true))"
      ]
    },
    {
      "cell_type": "markdown",
      "id": "better-leonard",
      "metadata": {
        "id": "better-leonard"
      },
      "source": [
        "#### comparison Operators\n",
        "     < less than\n",
        "     > greater than\n",
        "     <= less than or equal to\n",
        "     >= greater than or equal too\n",
        "     == Equal Operator -> can be used to compare any datatype (strings,lists,integers etc...)\n",
        "     != Not Equal Operator"
      ]
    },
    {
      "cell_type": "code",
      "execution_count": null,
      "id": "actual-steal",
      "metadata": {
        "id": "actual-steal"
      },
      "outputs": [],
      "source": [
        "a = 2\n",
        "b = 3\n"
      ]
    },
    {
      "cell_type": "code",
      "execution_count": null,
      "id": "impressive-recruitment",
      "metadata": {
        "id": "impressive-recruitment"
      },
      "outputs": [],
      "source": [
        "# Equal operator\n",
        "\n",
        "\n",
        "# Not Equals Operator\n"
      ]
    },
    {
      "cell_type": "markdown",
      "id": "guided-marina",
      "metadata": {
        "id": "guided-marina"
      },
      "source": [
        "    The Python ***or*** operator combines two Boolean expressions and will evaluate to True if at least one of  the expressions is True. It will return False if both expressions are False."
      ]
    },
    {
      "cell_type": "code",
      "execution_count": null,
      "id": "removed-regression",
      "metadata": {
        "id": "removed-regression",
        "outputId": "a1d08a92-6722-4dd1-c2e5-9160bf9a09ad"
      },
      "outputs": [
        {
          "name": "stdout",
          "output_type": "stream",
          "text": [
            "1:  True\n",
            "2:  True\n",
            "3:  False\n"
          ]
        }
      ],
      "source": [
        "print(\"1: \",True or True)\n",
        "print(\"2: \",True or False)\n",
        "print(\"3: \",False or False)\n",
        "\n",
        "#practice\n"
      ]
    },
    {
      "cell_type": "markdown",
      "id": "centered-relief",
      "metadata": {
        "id": "centered-relief"
      },
      "source": [
        "    The Python ***and** operator performs a Boolean comparison between two Boolean values, variables, or expressions similar to the ***or***. If both sides of the operator evaluate to True then the and operator returns True. If  either expressions or both evaluates to False , then the and it will return False."
      ]
    },
    {
      "cell_type": "code",
      "execution_count": null,
      "id": "framed-education",
      "metadata": {
        "id": "framed-education",
        "outputId": "abd342e5-d2bf-40f0-e57d-aa279f5a9816"
      },
      "outputs": [
        {
          "name": "stdout",
          "output_type": "stream",
          "text": [
            "1:  True\n",
            "2:  False\n",
            "3:  False\n"
          ]
        }
      ],
      "source": [
        "print(\"1: \",True and True)\n",
        "print(\"2: \",True and False)\n",
        "print(\"3: \",False and False)\n",
        "\n",
        "#practice\n"
      ]
    },
    {
      "cell_type": "markdown",
      "id": "romance-biology",
      "metadata": {
        "id": "romance-biology"
      },
      "source": [
        "### if Statementns - Control Flow\n",
        "\n",
        "    The Python if statement is used to determine the execution of code based on the evaluation of a Boolean         expression.\n",
        "    \n",
        "    if <expression is true>:\n",
        "       <action statement is executed>"
      ]
    },
    {
      "cell_type": "markdown",
      "id": "august-export",
      "metadata": {
        "id": "august-export"
      },
      "source": [
        "### if Statement"
      ]
    },
    {
      "cell_type": "code",
      "execution_count": null,
      "id": "chicken-psychiatry",
      "metadata": {
        "id": "chicken-psychiatry",
        "outputId": "cae4fde3-554d-4279-e384-93486c178a66"
      },
      "outputs": [
        {
          "name": "stdout",
          "output_type": "stream",
          "text": [
            "This code is executed!\n",
            "Program continues at this point.\n"
          ]
        }
      ],
      "source": [
        "# if Statement\n",
        "\n",
        "test_value = 100\n",
        "\n",
        "if test_value > 1:\n",
        "  # Expression evaluates to True\n",
        "  print(\"This code is executed!\")\n",
        "\n",
        "\n",
        "if test_value > 1000:\n",
        "  # Expression evaluates to False\n",
        "  print(\"1000: This code is NOT executed!\")\n",
        "\n",
        "print(\"Program continues at this point.\")"
      ]
    },
    {
      "cell_type": "markdown",
      "id": "streaming-effects",
      "metadata": {
        "id": "streaming-effects"
      },
      "source": [
        "### else Statement\n",
        "    The Python else statement provides alternate code to execute if the expression in an if statement evaluates to  False\n",
        "    \n",
        "    if <expression is false>:\n",
        "       <action statement is NOT executed>\n",
        "    else:\n",
        "       <action statement is executed>"
      ]
    },
    {
      "cell_type": "code",
      "execution_count": null,
      "id": "impossible-stock",
      "metadata": {
        "id": "impossible-stock",
        "outputId": "4937f2bd-159c-419d-b43d-8fe372080e9f"
      },
      "outputs": [
        {
          "name": "stdout",
          "output_type": "stream",
          "text": [
            "Value is >= 1\n",
            "String equals something else!\n"
          ]
        }
      ],
      "source": [
        "# else Statement\n",
        "\n",
        "test_value = 100\n",
        "if test_value < 1:\n",
        "    print(\"Value is < 1\")\n",
        "else:\n",
        "    print(\"Value is >= 1\")\n",
        "\n",
        "\n"
      ]
    },
    {
      "cell_type": "code",
      "source": [
        "test_string = \"VALID\"\n",
        "\n",
        "if test_string == \"NOT_VALID\":\n",
        "    print(\"String equals NOT_VALID\")\n",
        "else:\n",
        "    print(\"String equals something else!\")"
      ],
      "metadata": {
        "id": "l2rcT0JQulTR"
      },
      "id": "l2rcT0JQulTR",
      "execution_count": null,
      "outputs": []
    },
    {
      "cell_type": "code",
      "execution_count": null,
      "id": "addressed-minnesota",
      "metadata": {
        "id": "addressed-minnesota",
        "outputId": "56c0ae4b-c2a3-469b-c779-8751e6293b7f"
      },
      "outputs": [
        {
          "name": "stdout",
          "output_type": "stream",
          "text": [
            "Python is not in text\n"
          ]
        }
      ],
      "source": [
        "text = \"This code is written in Java\"\n",
        "if \"Python\" in text:\n",
        "    print(\"Python is in text\")\n",
        "else:\n",
        "    print(\"Python is not in text\")"
      ]
    },
    {
      "cell_type": "markdown",
      "id": "tribal-rouge",
      "metadata": {
        "id": "tribal-rouge"
      },
      "source": [
        "### elif Statement\n",
        "\n",
        "    The Python elif statement allows for continued checks to be performed after an initial if statement. An elif       statement differs from the else statement because another expression is provided to be checked, just as with the   initial if statement."
      ]
    },
    {
      "cell_type": "code",
      "execution_count": null,
      "id": "stretch-shepherd",
      "metadata": {
        "id": "stretch-shepherd",
        "outputId": "534c51d5-d287-43c1-c5b2-764364858e71"
      },
      "outputs": [
        {
          "name": "stdout",
          "output_type": "stream",
          "text": [
            "Not sure!\n"
          ]
        }
      ],
      "source": [
        "pet_type = \"owl\"\n",
        "\n",
        "if pet_type == \"dog\":\n",
        "    print(\"You have a dog.\")\n",
        "elif pet_type == \"cat\":\n",
        "    print(\"You have a cat.\")\n",
        "elif pet_type == \"fish\":\n",
        "    print(\"You have a fish\")\n",
        "else:\n",
        "    print(\"Not sure!\")"
      ]
    },
    {
      "cell_type": "markdown",
      "id": "iraqi-korean",
      "metadata": {
        "id": "iraqi-korean"
      },
      "source": [
        "# Task 1\n",
        "\n",
        "    Create an if/elif statement to print the winner"
      ]
    },
    {
      "cell_type": "code",
      "execution_count": null,
      "id": "computational-green",
      "metadata": {
        "id": "computational-green",
        "outputId": "e06e8aec-8885-4854-c36d-f749d827e161"
      },
      "outputs": [
        {
          "name": "stdout",
          "output_type": "stream",
          "text": [
            "rock, paper or scissorsrock\n",
            "Human's choice      : rock\n",
            "Computer's choice   : scissors\n"
          ]
        }
      ],
      "source": [
        "from random import random\n",
        "\n",
        "choices = [\"rock\",\"paper\",\"scissors\"]\n",
        "human = input(\"rock, paper or scissors\")\n",
        "computer = choices[int(random()*10%3)]\n",
        "print(\"Human's choice      :\", human)\n",
        "print(\"Computer's choice   :\",computer)\n",
        "\n",
        "# Write Your Code Below\n",
        "\n"
      ]
    },
    {
      "cell_type": "markdown",
      "id": "annual-installation",
      "metadata": {
        "id": "annual-installation"
      },
      "source": [
        "# Loops\n",
        "## for Loops\n",
        "\n",
        "    A Python for loop can be used to iterate over a list of items and perform a set of actions on each item.        The syntax of a for loop consists of assigning a temporary value to a variable on each successive iteration.\n",
        "    \n",
        "    for <temporary variable> in <list variable>:\n",
        "      <action statement>\n",
        "      <action statement>"
      ]
    },
    {
      "cell_type": "markdown",
      "id": "governmental-andrews",
      "metadata": {
        "id": "governmental-andrews"
      },
      "source": [
        "![ForLoop](https://github.com/TheDataNomad/AlgoWarzmi/blob/main/IntroToPython/Session%202/forloop.gif?raw=1)"
      ]
    },
    {
      "cell_type": "code",
      "execution_count": null,
      "id": "broadband-astrology",
      "metadata": {
        "id": "broadband-astrology",
        "outputId": "fb54f029-6815-4072-abe3-55822bb9a316"
      },
      "outputs": [
        {
          "name": "stdout",
          "output_type": "stream",
          "text": [
            "1\n",
            "2\n",
            "3\n",
            "4\n",
            "5\n"
          ]
        }
      ],
      "source": [
        "#each num in nums will be printed below\n",
        "nums = [1,2,3,4,5]\n",
        "\n",
        "\n",
        "#For loop animation\n",
        "\n",
        "for num in nums:\n",
        "    print(num)"
      ]
    },
    {
      "cell_type": "markdown",
      "id": "correct-sodium",
      "metadata": {
        "id": "correct-sodium"
      },
      "source": [
        " ### Python Loop with range() function"
      ]
    },
    {
      "cell_type": "code",
      "execution_count": null,
      "id": "smoking-black",
      "metadata": {
        "id": "smoking-black",
        "outputId": "0eee4d43-5adf-4fe0-db0e-037aeb98643b"
      },
      "outputs": [
        {
          "name": "stdout",
          "output_type": "stream",
          "text": [
            "0\n",
            "1\n",
            "2\n",
            "WARNING\n",
            "WARNING\n",
            "WARNING\n"
          ]
        }
      ],
      "source": [
        "# Print the numbers 0, 1, 2:\n",
        "for i in range(3):\n",
        "    print(i)\n",
        "\n",
        "# Print \"WARNING\" 3 times:\n",
        "for i in range(3):\n",
        "    print(\"WARNING\")\n",
        ""
      ]
    },
    {
      "cell_type": "markdown",
      "id": "actual-crown",
      "metadata": {
        "id": "actual-crown"
      },
      "source": [
        "# Task 2\n",
        "    print the numbers in the list num using range\n"
      ]
    },
    {
      "cell_type": "code",
      "execution_count": null,
      "id": "animal-trader",
      "metadata": {
        "id": "animal-trader"
      },
      "outputs": [],
      "source": [
        "# Your Code Here\n",
        "nums = [1,2,3,4,5]\n"
      ]
    },
    {
      "cell_type": "markdown",
      "id": "pressing-enhancement",
      "metadata": {
        "id": "pressing-enhancement"
      },
      "source": [
        "#### The Python continue Keyword\n",
        "    In Python, the continue keyword is used inside a loop to skip the remaining code inside the loop code block and begin the next loop iteration."
      ]
    },
    {
      "cell_type": "code",
      "execution_count": null,
      "id": "dietary-movement",
      "metadata": {
        "id": "dietary-movement",
        "outputId": "adaf8111-955b-428e-be16-ac8637108829"
      },
      "outputs": [
        {
          "name": "stdout",
          "output_type": "stream",
          "text": [
            "1\n",
            "2\n",
            "4\n",
            "5\n",
            "2\n",
            "Method 2\n",
            "1\n",
            "2\n",
            "4\n",
            "5\n",
            "2\n"
          ]
        }
      ],
      "source": [
        "nums_list = [1, 2, -1, 4, -5,5, 2, -9]\n",
        "# Print only positive numbers:\n",
        "\n",
        "for i in nums_list:\n",
        "    if i < 0:\n",
        "        continue\n",
        "    print(i)\n",
        "\n",
        "print(\"Method 2\")\n",
        "for i in nums_list:\n",
        "    if i > 0:\n",
        "        print(i)\n",
        ""
      ]
    },
    {
      "cell_type": "markdown",
      "id": "prerequisite-intranet",
      "metadata": {
        "id": "prerequisite-intranet"
      },
      "source": [
        "#### break Keyword\n",
        "    In a loop, the break keyword escapes the loop, regardless of the iteration number. Once break executes, the     program will continue to execute after the loop."
      ]
    },
    {
      "cell_type": "code",
      "execution_count": null,
      "id": "developing-newsletter",
      "metadata": {
        "id": "developing-newsletter",
        "outputId": "96170b9f-b115-410e-a48b-e88ecaee19f8"
      },
      "outputs": [
        {
          "name": "stdout",
          "output_type": "stream",
          "text": [
            "0\n",
            "254\n",
            "2\n",
            "Negative number detected!\n"
          ]
        }
      ],
      "source": [
        "numbers = [0, 254, 2, -1, 3]\n",
        "for num in numbers:\n",
        "    if (num < 0):\n",
        "        print(\"Negative number detected!\")\n",
        "        break\n",
        "    else:\n",
        "        print(num)\n"
      ]
    },
    {
      "cell_type": "markdown",
      "id": "suburban-malaysia",
      "metadata": {
        "id": "suburban-malaysia"
      },
      "source": [
        "# Python while Loops\n",
        "    The while loop will repeatedly execute a code block as long as a condition evaluates to True ."
      ]
    },
    {
      "cell_type": "code",
      "execution_count": null,
      "id": "russian-spending",
      "metadata": {
        "id": "russian-spending",
        "outputId": "01685e47-eaf8-4837-994e-1a16808f62c6"
      },
      "outputs": [
        {
          "name": "stdout",
          "output_type": "stream",
          "text": [
            "Time to eat!\n",
            "1\n",
            "2\n",
            "3\n",
            "4\n",
            "5\n"
          ]
        }
      ],
      "source": [
        "# This loop will only run 1 time\n",
        "hungry = True\n",
        "while hungry:\n",
        "    print(\"Time to eat!\")\n",
        "    hungry = False\n",
        "\n",
        "# This loop will run 5 times\n",
        "i=1\n",
        "while i < 6:\n",
        "    print(i)\n",
        "    i=i+1"
      ]
    },
    {
      "cell_type": "markdown",
      "id": "bizarre-boring",
      "metadata": {
        "id": "bizarre-boring"
      },
      "source": [
        "# Extra on  Loops\n"
      ]
    },
    {
      "cell_type": "code",
      "execution_count": null,
      "id": "athletic-navigator",
      "metadata": {
        "id": "athletic-navigator",
        "outputId": "58800175-fe08-4209-9d70-8b3a4b5e7af9"
      },
      "outputs": [
        {
          "name": "stdout",
          "output_type": "stream",
          "text": [
            "Jobs\n",
            "Gates\n",
            "Newton\n",
            "Euclid\n",
            "Einstein\n",
            "Feynman\n"
          ]
        }
      ],
      "source": [
        "# Nested Loops\n",
        "\n",
        "groups = [[\"Jobs\", \"Gates\"], [\"Newton\", \"Euclid\"], [\"Einstein\",\"Feynman\"]]\n",
        "# This outer loop will iterate over each list in the groups list\n",
        "for group in groups:\n",
        "  # This inner loop will go through each name in each list\n",
        "  for name in group:\n",
        "    print(name)\n",
        "\n",
        ""
      ]
    },
    {
      "cell_type": "code",
      "execution_count": null,
      "id": "dried-craft",
      "metadata": {
        "id": "dried-craft",
        "outputId": "f24b867a-a4b4-441b-b46e-97794be95451"
      },
      "outputs": [
        {
          "name": "stdout",
          "output_type": "stream",
          "text": [
            "[1, 4, 9, 16, 25, 36, 49, 64, 81]\n"
          ]
        }
      ],
      "source": [
        "# List comprehension\n",
        "\n",
        "squares_list = [x**2 for x in range(1,10)]\n",
        "print(squares_list)"
      ]
    },
    {
      "cell_type": "markdown",
      "id": "exact-packaging",
      "metadata": {
        "id": "exact-packaging"
      },
      "source": [
        "# Task 3\n",
        "\n",
        "    use while loop to make your the rock,paper scissor game continue until the user write \"quit\"\n",
        "\n",
        "\n"
      ]
    },
    {
      "cell_type": "code",
      "execution_count": null,
      "id": "still-short",
      "metadata": {
        "id": "still-short"
      },
      "outputs": [],
      "source": [
        "from random import random\n",
        "\n",
        "choices = [\"rock\",\"paper\",\"scissors\"]\n",
        "human = input(\"rock, paper or scissors or quit to end the game\")\n",
        "computer = choices[int(random()*10%3)]\n",
        "print(\"Human's choice      :\", human)\n",
        "print(\"Computer's choice   :\",computer)\n",
        "\n",
        "# Write Your Code Below\n",
        "\n"
      ]
    },
    {
      "cell_type": "code",
      "execution_count": null,
      "id": "polyphonic-southeast",
      "metadata": {
        "id": "polyphonic-southeast"
      },
      "outputs": [],
      "source": []
    }
  ],
  "metadata": {
    "kernelspec": {
      "display_name": "Python 3",
      "language": "python",
      "name": "python3"
    },
    "language_info": {
      "codemirror_mode": {
        "name": "ipython",
        "version": 3
      },
      "file_extension": ".py",
      "mimetype": "text/x-python",
      "name": "python",
      "nbconvert_exporter": "python",
      "pygments_lexer": "ipython3",
      "version": "3.9.1"
    },
    "colab": {
      "provenance": []
    }
  },
  "nbformat": 4,
  "nbformat_minor": 5
}