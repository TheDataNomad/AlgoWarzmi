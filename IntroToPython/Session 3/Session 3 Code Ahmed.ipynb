{
 "cells": [
  {
   "cell_type": "markdown",
   "id": "boring-recruitment",
   "metadata": {},
   "source": [
    "# Session 3\n",
    "## Functions\n",
    "\n",
    "    Some tasks need to be performed multiple times within a program. Rather than rewrite the same code in multiple  places, a function may be defined using the def keyword. Function definitions may include parameters, providing data input to the function.\n",
    "    Functions may return a value using the return keyword followed by the value to return.\n",
    "    \n",
    "    #function syntax\n",
    "    def function_name(parameters):\n",
    "        <action statements>\n",
    "        \n",
    "        return values\n",
    "        \n",
    "    #calling a function \n",
    "    function_name(arguments)"
   ]
  },
  {
   "cell_type": "code",
   "execution_count": 1,
   "id": "creative-spine",
   "metadata": {},
   "outputs": [
    {
     "name": "stdout",
     "output_type": "stream",
     "text": [
      "3\n",
      "9\n"
     ]
    }
   ],
   "source": [
    "# Define a function my_function() with parameter x\n",
    "def my_function(x):\n",
    "    return x + 1\n",
    "\n",
    "# Invoke the function // Calling the fucntion\n",
    "print(my_function(2))      \n",
    "print(my_function(3 + 5))  "
   ]
  },
  {
   "cell_type": "code",
   "execution_count": 12,
   "id": "irish-wesley",
   "metadata": {},
   "outputs": [],
   "source": [
    "#Parameters:\n",
    "\n",
    "#single like above\n",
    "#multiple\n",
    "\n",
    "def pythogras_theorem(a,b):\n",
    "    c = (a**2 + b**2)**0.5\n",
    "    \n",
    "    return c"
   ]
  },
  {
   "cell_type": "code",
   "execution_count": 70,
   "id": "local-national",
   "metadata": {},
   "outputs": [],
   "source": [
    "#multiple variables return\n",
    "\n",
    "from random import randint\n",
    "\n",
    "import statistics as s\n",
    "\n",
    "def listGenerator(length):\n",
    "    return [randint(0,100) for x in range(length)]\n",
    "\n",
    "def AlgoStats(list):\n",
    "    #get the max \n",
    "    max_value = max(list)\n",
    "    \n",
    "    #get the min\n",
    "    min_value = min(list)\n",
    "    \n",
    "    #get the average\n",
    "    average_value = s.mean(list)\n",
    "    \n",
    "    \n",
    "    return max_value, min_value, average_value"
   ]
  },
  {
   "cell_type": "code",
   "execution_count": 72,
   "id": "removed-professional",
   "metadata": {},
   "outputs": [
    {
     "data": {
      "text/plain": [
       "(98, 1, 56.49)"
      ]
     },
     "execution_count": 72,
     "metadata": {},
     "output_type": "execute_result"
    }
   ],
   "source": [
    "AlgoStats(listGenerator(100))"
   ]
  },
  {
   "cell_type": "markdown",
   "id": "official-subcommittee",
   "metadata": {},
   "source": [
    "### Global vs Local Variables\n",
    "\n",
    "    A Global variable that is defined outside of a function is called a global variable. It can be accessed inside the body of a function.\n",
    "    \n",
    "    A Local Variable is a variable that is defined inside the function and cannot be accessed outside it unless your return the value from the function"
   ]
  },
  {
   "cell_type": "code",
   "execution_count": 80,
   "id": "digital-winter",
   "metadata": {},
   "outputs": [
    {
     "name": "stdout",
     "output_type": "stream",
     "text": [
      "Hello World\n"
     ]
    }
   ],
   "source": [
    "global_variable = \"Hello World\"\n",
    "def prints_a():\n",
    "    local_variable = \"This is local\" \n",
    "    print(a)\n",
    "    \n",
    "    return local_variable\n",
    "\n",
    "\n",
    "try:\n",
    "    prints_a()\n",
    "except:\n",
    "    print(\"Error: This is a local variable\")"
   ]
  },
  {
   "cell_type": "code",
   "execution_count": 111,
   "id": "sticky-killing",
   "metadata": {
    "scrolled": true
   },
   "outputs": [
    {
     "name": "stdout",
     "output_type": "stream",
     "text": [
      "Length = 1\n",
      "Width = 1\n",
      "Depth = 1\n"
     ]
    },
    {
     "data": {
      "text/plain": [
       "1"
      ]
     },
     "execution_count": 111,
     "metadata": {},
     "output_type": "execute_result"
    }
   ],
   "source": [
    "def calculateVolume(l=1,w=1,h=1):\n",
    "    print(\"Length = \" + str(l))\n",
    "    print(\"Width = \" + str(w))\n",
    "    print(\"Depth = \" + str(h))\n",
    "    \n",
    "    return l*w*h\n",
    "\n",
    "calculateVolume()"
   ]
  },
  {
   "cell_type": "markdown",
   "id": "dressed-despite",
   "metadata": {},
   "source": [
    "# Task 1"
   ]
  },
  {
   "cell_type": "code",
   "execution_count": null,
   "id": "european-today",
   "metadata": {},
   "outputs": [],
   "source": [
    "#Write a function that takes a number and returns if it's odd or even \n",
    "\n"
   ]
  },
  {
   "cell_type": "markdown",
   "id": "together-cover",
   "metadata": {},
   "source": [
    "# Task 2\n",
    "\n",
    "    Build a rock paper scissor game with a function that takes no parameter of Human vs Computer\n",
    "\n",
    "    1. The user need to input their option and prompted again if their input is wrong. *hint: use the function                   input(\"choose your option\")\n",
    "    2. The input check shouldn't be case sensitive\n",
    "    3. The game should end after 5 plays and returns the score\n",
    "    4. The computers input should be randomly generated *hint: use random.sample(List)\n",
    "    "
   ]
  },
  {
   "cell_type": "code",
   "execution_count": 134,
   "id": "ultimate-wilson",
   "metadata": {},
   "outputs": [],
   "source": [
    "# Your beautiful code here \n",
    "\n",
    "\n",
    "#hint 1: create a function that compares options and returns a winner \n",
    "\n",
    "#hint 2: create a loop to repeat the method 5 times asking the user input and call the function to compare inputs "
   ]
  },
  {
   "cell_type": "markdown",
   "id": "exciting-commodity",
   "metadata": {},
   "source": [
    "# Python class\n",
    "    In Python, a class is a template for a data type. A class can be defined using the class keyword.\n",
    "    \n",
    "    # Defining a class\n",
    "    class Animal:  #class Name\n",
    "    \n",
    "       # Python init method .__init__() method is used to initialize a newly created object. It is called every time            the class is instantiated.\n",
    "    \n",
    "      def __init__(self, name,number_of_legs): #init method\n",
    "        self.name = name\n",
    "        self.number_of_legs = number_of_legs"
   ]
  },
  {
   "cell_type": "code",
   "execution_count": 121,
   "id": "multiple-benjamin",
   "metadata": {},
   "outputs": [],
   "source": [
    "class Employee:\n",
    "    def __init__(self, name,age,gender):\n",
    "        self.name = name\n",
    "        self.age = age\n",
    "        self.gender = gender\n",
    "        \n",
    "    def print_employee(self):\n",
    "        print(f\"Employee: {self.name} is {self.age}\")"
   ]
  },
  {
   "cell_type": "code",
   "execution_count": 137,
   "id": "distinguished-highlight",
   "metadata": {},
   "outputs": [
    {
     "name": "stdout",
     "output_type": "stream",
     "text": [
      "<__main__.Employee object at 0x110c5bf40>\n"
     ]
    }
   ],
   "source": [
    "#Instantiate\n",
    "ahmed = Employee(\"Ahmed\",26,\"Male\")\n",
    "\n",
    "print(ahmed)"
   ]
  },
  {
   "cell_type": "code",
   "execution_count": 115,
   "id": "sunrise-camel",
   "metadata": {},
   "outputs": [
    {
     "name": "stdout",
     "output_type": "stream",
     "text": [
      "Ahmed\n",
      "26\n",
      "Male\n"
     ]
    }
   ],
   "source": [
    "#Class variables\n",
    "\n",
    "print(ahmed.name)\n",
    "print(ahmed.age)\n",
    "print(ahmed.gender)"
   ]
  },
  {
   "cell_type": "code",
   "execution_count": 120,
   "id": "continuous-judgment",
   "metadata": {},
   "outputs": [
    {
     "name": "stdout",
     "output_type": "stream",
     "text": [
      "Employee: Ahmed is 26\n"
     ]
    }
   ],
   "source": [
    "# Python dir() function\n",
    "ahmed.print_employee()"
   ]
  },
  {
   "cell_type": "code",
   "execution_count": null,
   "id": "assumed-technology",
   "metadata": {},
   "outputs": [],
   "source": []
  }
 ],
 "metadata": {
  "kernelspec": {
   "display_name": "Python 3",
   "language": "python",
   "name": "python3"
  },
  "language_info": {
   "codemirror_mode": {
    "name": "ipython",
    "version": 3
   },
   "file_extension": ".py",
   "mimetype": "text/x-python",
   "name": "python",
   "nbconvert_exporter": "python",
   "pygments_lexer": "ipython3",
   "version": "3.9.1"
  }
 },
 "nbformat": 4,
 "nbformat_minor": 5
}
