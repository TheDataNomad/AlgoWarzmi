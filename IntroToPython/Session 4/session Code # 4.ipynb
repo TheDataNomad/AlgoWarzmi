{
 "cells": [
  {
   "cell_type": "markdown",
   "id": "radio-florida",
   "metadata": {},
   "source": [
    "# Dict, API, Requests and JSON \n",
    "\n",
    "https://rapidapi.com/user/community"
   ]
  },
  {
   "cell_type": "code",
   "execution_count": 98,
   "id": "dated-fault",
   "metadata": {},
   "outputs": [
    {
     "name": "stdout",
     "output_type": "stream",
     "text": [
      "<Response [403]>\n"
     ]
    }
   ],
   "source": [
    "import requests\n",
    "\n",
    "\n",
    "url = \"https://fintoolbox-dealdata-net-v1.p.rapidapi.com/api.php\"\n",
    "\n",
    "querystring = {\"function\":\"getFundTypes\"}\n",
    "\n",
    "headers = {\n",
    "    'x-rapidapi-key': \"dc9a9d4b03msh523495f22581987p199d21jsn7723850b9ce4\",\n",
    "    'x-rapidapi-host': \"fintoolbox-dealdata-net-v1.p.rapidapi.com\"\n",
    "    }\n",
    "\n",
    "response = requests.request(\"GET\", url, headers=headers, params=querystring)\n",
    "\n",
    "print(response)\n"
   ]
  },
  {
   "cell_type": "code",
   "execution_count": 101,
   "id": "designing-dragon",
   "metadata": {},
   "outputs": [],
   "source": [
    "import requests\n",
    "import json\n",
    "\n",
    "\n",
    "headers = {\n",
    "    'x-rapidapi-key': \"dc9a9d4b03msh523495f22581987p199d21jsn7723850b9ce4\",\n",
    "    'x-rapidapi-host': \"community-open-weather-map.p.rapidapi.com\"\n",
    "    }\n",
    "\n",
    "def weatherApp(headers,city):\n",
    "    querystring = {\"q\":city,\n",
    "        \"units\":\"metric\",\n",
    "         \"mode\":\"xml, html\"}\n",
    "    url = \"https://community-open-weather-map.p.rapidapi.com/weather\"\n",
    "    response = requests.request(\"GET\", url, headers=headers, params=querystring)\n",
    "\n",
    "    \n",
    "    return response"
   ]
  },
  {
   "cell_type": "code",
   "execution_count": 129,
   "id": "saving-content",
   "metadata": {},
   "outputs": [
    {
     "data": {
      "text/plain": [
       "{'coord': {'lon': 58.5334, 'lat': 22.6906},\n",
       " 'weather': [{'id': 803,\n",
       "   'main': 'Clouds',\n",
       "   'description': 'broken clouds',\n",
       "   'icon': '04n'}],\n",
       " 'base': 'stations',\n",
       " 'main': {'temp': 28.52,\n",
       "  'feels_like': 27.26,\n",
       "  'temp_min': 28.52,\n",
       "  'temp_max': 28.52,\n",
       "  'pressure': 1013,\n",
       "  'humidity': 25,\n",
       "  'sea_level': 1013,\n",
       "  'grnd_level': 962},\n",
       " 'visibility': 10000,\n",
       " 'wind': {'speed': 3.02, 'deg': 144, 'gust': 4.32},\n",
       " 'clouds': {'all': 60},\n",
       " 'dt': 1619286298,\n",
       " 'sys': {'country': 'OM', 'sunrise': 1619228291, 'sunset': 1619274570},\n",
       " 'timezone': 14400,\n",
       " 'id': 287832,\n",
       " 'name': 'Ibrā’',\n",
       " 'cod': 200}"
      ]
     },
     "execution_count": 129,
     "metadata": {},
     "output_type": "execute_result"
    }
   ],
   "source": [
    "data = weatherApp(headers,\"Ibra\").text\n",
    "\n",
    "data = json.loads(data)\n",
    "data"
   ]
  },
  {
   "cell_type": "code",
   "execution_count": 135,
   "id": "absolute-hampton",
   "metadata": {},
   "outputs": [
    {
     "data": {
      "text/plain": [
       "{'coord': {'lon': 54.0924, 'lat': 17.0151},\n",
       " 'weather': [{'id': 802,\n",
       "   'main': 'Clouds',\n",
       "   'description': 'scattered clouds',\n",
       "   'icon': '03n'}],\n",
       " 'base': 'stations',\n",
       " 'main': {'temp': 82.29,\n",
       "  'feels_like': 88.2,\n",
       "  'temp_min': 82.29,\n",
       "  'temp_max': 82.29,\n",
       "  'pressure': 1012,\n",
       "  'humidity': 75,\n",
       "  'sea_level': 1012,\n",
       "  'grnd_level': 1011},\n",
       " 'visibility': 10000,\n",
       " 'wind': {'speed': 6.98, 'deg': 188, 'gust': 9.42},\n",
       " 'clouds': {'all': 27},\n",
       " 'dt': 1619286834,\n",
       " 'sys': {'country': 'OM', 'sunrise': 1619229719, 'sunset': 1619275274},\n",
       " 'timezone': 14400,\n",
       " 'id': 286621,\n",
       " 'name': 'Salalah',\n",
       " 'cod': 200}"
      ]
     },
     "execution_count": 135,
     "metadata": {},
     "output_type": "execute_result"
    }
   ],
   "source": [
    "import requests\n",
    "\n",
    "\n",
    "url = \"https://community-open-weather-map.p.rapidapi.com/weather\"\n",
    "\n",
    "querystring = {\"q\":\"Salalah\",\"units\":\"imperial\"}\n",
    "\n",
    "headers = {\n",
    "    'x-rapidapi-key': \"dc9a9d4b03msh523495f22581987p199d21jsn7723850b9ce4\",\n",
    "    'x-rapidapi-host': \"community-open-weather-map.p.rapidapi.com\"\n",
    "    }\n",
    "\n",
    "response = requests.request(\"GET\", url, headers=headers, params=querystring)\n",
    "\n",
    "json.loads(response.text)"
   ]
  },
  {
   "cell_type": "markdown",
   "id": "compatible-marking",
   "metadata": {},
   "source": [
    "# Covid-19 API\n",
    "    \n",
    "    find the api from rapidapi for covid and get the Omani data"
   ]
  },
  {
   "cell_type": "code",
   "execution_count": 143,
   "id": "cultural-cambridge",
   "metadata": {},
   "outputs": [
    {
     "data": {
      "text/plain": [
       "{'country': 'Oman',\n",
       " 'code': 'OM',\n",
       " 'confirmed': 185278,\n",
       " 'recovered': 165051,\n",
       " 'critical': 266,\n",
       " 'deaths': 1942,\n",
       " 'latitude': 21.512583,\n",
       " 'longitude': 55.923255,\n",
       " 'lastChange': '2021-04-22T11:05:02+02:00',\n",
       " 'lastUpdate': '2021-04-24T19:45:03+02:00'}"
      ]
     },
     "execution_count": 143,
     "metadata": {},
     "output_type": "execute_result"
    }
   ],
   "source": [
    "url = \"https://covid-19-data.p.rapidapi.com/country\"\n",
    "\n",
    "querystring = {\"name\":\"Oman\"}\n",
    "\n",
    "headers = {\n",
    "    'x-rapidapi-key': \"dc9a9d4b03msh523495f22581987p199d21jsn7723850b9ce4\",\n",
    "    'x-rapidapi-host': \"covid-19-data.p.rapidapi.com\"\n",
    "    }\n",
    "\n",
    "response = requests.request(\"GET\", url, headers=headers, params=querystring)\n",
    "\n",
    "json.loads(response.text)[0]"
   ]
  },
  {
   "cell_type": "code",
   "execution_count": 100,
   "id": "provincial-calgary",
   "metadata": {},
   "outputs": [
    {
     "name": "stdout",
     "output_type": "stream",
     "text": [
      "[{\"country\":\"Spain\",\"code\":\"ES\",\"confirmed\":3468617,\"recovered\":3163849,\"critical\":2297,\"deaths\":77591,\"latitude\":40.463667,\"longitude\":-3.74922,\"lastChange\":\"2021-04-23T18:30:14+02:00\",\"lastUpdate\":\"2021-04-24T19:30:03+02:00\"}]\n"
     ]
    }
   ],
   "source": [
    "\n",
    "\n",
    "url = \"https://covid-19-data.p.rapidapi.com/country\"\n",
    "\n",
    "querystring = {\"name\":\"Spain\"}\n",
    "\n",
    "headers = {\n",
    "    'x-rapidapi-key': \"dc9a9d4b03msh523495f22581987p199d21jsn7723850b9ce4\",\n",
    "    'x-rapidapi-host': \"covid-19-data.p.rapidapi.com\"\n",
    "    }\n",
    "\n",
    "response = requests.request(\"GET\", url, headers=headers, params=querystring)\n",
    "\n",
    "print(response.text)"
   ]
  },
  {
   "cell_type": "code",
   "execution_count": 66,
   "id": "excellent-madness",
   "metadata": {},
   "outputs": [
    {
     "data": {
      "text/plain": [
       "2297"
      ]
     },
     "execution_count": 66,
     "metadata": {},
     "output_type": "execute_result"
    }
   ],
   "source": [
    "data = json.loads(response.text)[0]\n",
    "data['critical']"
   ]
  },
  {
   "cell_type": "code",
   "execution_count": 67,
   "id": "banner-james",
   "metadata": {},
   "outputs": [
    {
     "data": {
      "text/plain": [
       "[{'country': 'Spain',\n",
       "  'code': 'ES',\n",
       "  'confirmed': 3468617,\n",
       "  'recovered': 3163849,\n",
       "  'critical': 2297,\n",
       "  'deaths': 77591,\n",
       "  'latitude': 40.463667,\n",
       "  'longitude': -3.74922,\n",
       "  'lastChange': '2021-04-23T18:30:14+02:00',\n",
       "  'lastUpdate': '2021-04-24T16:30:03+02:00'}]"
      ]
     },
     "execution_count": 67,
     "metadata": {},
     "output_type": "execute_result"
    }
   ],
   "source": [
    "json.loads(response.text)"
   ]
  },
  {
   "cell_type": "code",
   "execution_count": null,
   "id": "convinced-overhead",
   "metadata": {},
   "outputs": [],
   "source": []
  },
  {
   "cell_type": "code",
   "execution_count": 160,
   "id": "retired-small",
   "metadata": {},
   "outputs": [
    {
     "data": {
      "text/plain": [
       "1439323776"
      ]
     },
     "execution_count": 160,
     "metadata": {},
     "output_type": "execute_result"
    }
   ],
   "source": [
    "url = \"https://world-population.p.rapidapi.com/population\"\n",
    "\n",
    "querystring = {\"country_name\":\"China\"}\n",
    "\n",
    "headers = {\n",
    "    'x-rapidapi-key': \"dc9a9d4b03msh523495f22581987p199d21jsn7723850b9ce4\",\n",
    "    'x-rapidapi-host': \"world-population.p.rapidapi.com\"\n",
    "    }\n",
    "\n",
    "response = requests.request(\"GET\", url, headers=headers, params=querystring)\n",
    "\n",
    "json.loads(response.text)['body']['population']"
   ]
  },
  {
   "cell_type": "code",
   "execution_count": null,
   "id": "crude-capacity",
   "metadata": {},
   "outputs": [],
   "source": []
  },
  {
   "cell_type": "code",
   "execution_count": null,
   "id": "wooden-battle",
   "metadata": {},
   "outputs": [],
   "source": []
  },
  {
   "cell_type": "code",
   "execution_count": null,
   "id": "secret-stress",
   "metadata": {},
   "outputs": [],
   "source": []
  },
  {
   "cell_type": "code",
   "execution_count": null,
   "id": "diverse-moisture",
   "metadata": {},
   "outputs": [],
   "source": []
  },
  {
   "cell_type": "code",
   "execution_count": null,
   "id": "biblical-lebanon",
   "metadata": {},
   "outputs": [],
   "source": []
  }
 ],
 "metadata": {
  "kernelspec": {
   "display_name": "Python 3",
   "language": "python",
   "name": "python3"
  },
  "language_info": {
   "codemirror_mode": {
    "name": "ipython",
    "version": 3
   },
   "file_extension": ".py",
   "mimetype": "text/x-python",
   "name": "python",
   "nbconvert_exporter": "python",
   "pygments_lexer": "ipython3",
   "version": "3.9.1"
  }
 },
 "nbformat": 4,
 "nbformat_minor": 5
}
