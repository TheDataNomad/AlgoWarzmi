{
 "cells": [
  {
   "cell_type": "code",
   "execution_count": 1,
   "metadata": {},
   "outputs": [],
   "source": [
    "country_data = {\n",
    "    \"countries\": [\n",
    "        {\n",
    "            \"name\": \"USA\",\n",
    "            \"population\": 331002651,\n",
    "            \"capital\": \"Washington, D.C.\",\n",
    "            \"languages\": [\"English\"],\n",
    "            \"GDP\": 21433225,\n",
    "            \"neighboring_countries\": [\"Canada\", \"Mexico\"]\n",
    "        },\n",
    "        {\n",
    "            \"name\": \"Canada\",\n",
    "            \"population\": 37742154,\n",
    "            \"capital\": \"Ottawa\",\n",
    "            \"languages\": [\"English\", \"French\"],\n",
    "            \"GDP\": 1647126,\n",
    "            \"neighboring_countries\": [\"USA\"]\n",
    "        },\n",
    "        {\n",
    "            \"name\": \"Germany\",\n",
    "            \"population\": 83783942,\n",
    "            \"capital\": \"Berlin\",\n",
    "            \"languages\": [\"German\"],\n",
    "            \"GDP\": 3845630,\n",
    "            \"neighboring_countries\": [\"France\", \"Poland\", \"Netherlands\"]\n",
    "        },\n",
    "        {\n",
    "            \"name\": \"Japan\",\n",
    "            \"population\": 126476461,\n",
    "            \"capital\": \"Tokyo\",\n",
    "            \"languages\": [\"Japanese\"],\n",
    "            \"GDP\": 5064873,\n",
    "            \"neighboring_countries\": []\n",
    "        },\n",
    "    ],\n",
    "    \"global_population\": 7800000000\n",
    "}"
   ]
  },
  {
   "cell_type": "code",
   "execution_count": null,
   "metadata": {},
   "outputs": [],
   "source": [
    "# Your Tasks:\n",
    "\n",
    "# 1. Extract and print the capital city of Canada.\n",
    "canada_capital = \"\"\n",
    "print(f\"Capital of Canada: {canada_capital}\")\n"
   ]
  },
  {
   "cell_type": "code",
   "execution_count": null,
   "metadata": {},
   "outputs": [],
   "source": [
    "# 2. Add a new country \"Australia\" with the following details:\n",
    "#    - population: 25687041\n",
    "#    - capital: \"Canberra\"\n",
    "#    - languages: [\"English\"]\n",
    "#    - GDP: 1392687\n",
    "#    - neighboring_countries: []\n",
    "new_country = {}\n",
    "\n",
    "\n",
    "# Print the updated list of countries\n",
    "# country_data[\"countries\"].append(new_country) # UNCOMMENT WHEN YOU ARE DONE, if you make a mistake, re-run the code above\n",
    "print(country_data[\"countries\"])"
   ]
  },
  {
   "cell_type": "code",
   "execution_count": 2,
   "metadata": {},
   "outputs": [
    {
     "name": "stdout",
     "output_type": "stream",
     "text": [
      "USA has a GDP of 21433225 billion USD.\n",
      "Canada has a GDP of 1647126 billion USD.\n",
      "Germany has a GDP of 3845630 billion USD.\n",
      "Japan has a GDP of 5064873 billion USD.\n"
     ]
    }
   ],
   "source": [
    "# 3. Loop through the countries and print each country’s name and GDP.\n",
    "\n"
   ]
  },
  {
   "cell_type": "code",
   "execution_count": 3,
   "metadata": {},
   "outputs": [
    {
     "name": "stdout",
     "output_type": "stream",
     "text": [
      "The most populated country is USA with a population of 331002651.\n"
     ]
    }
   ],
   "source": [
    "# 4. Find and print the name of the most populated country.\n",
    "## HINT you need a for loop and and if statement\n",
    "most_populated = \"\"\n",
    "max_population = 0\n",
    "\n",
    "\n",
    "print(f\"The most populated country is {most_populated} with a population of {max_population}.\")"
   ]
  },
  {
   "cell_type": "code",
   "execution_count": 4,
   "metadata": {},
   "outputs": [
    {
     "name": "stdout",
     "output_type": "stream",
     "text": [
      "Number of countries where English is spoken: 2\n"
     ]
    }
   ],
   "source": [
    "# 5. Count and print how many countries have English as one of their official languages.\n",
    "# Same hint as above\n",
    "english_speaking_countries = 0\n",
    "\n",
    "\n",
    "print(f\"Number of countries where English is spoken: {english_speaking_countries}\")"
   ]
  }
 ],
 "metadata": {
  "kernelspec": {
   "display_name": "Python 3",
   "language": "python",
   "name": "python3"
  },
  "language_info": {
   "codemirror_mode": {
    "name": "ipython",
    "version": 3
   },
   "file_extension": ".py",
   "mimetype": "text/x-python",
   "name": "python",
   "nbconvert_exporter": "python",
   "pygments_lexer": "ipython3",
   "version": "3.10.9"
  },
  "orig_nbformat": 4
 },
 "nbformat": 4,
 "nbformat_minor": 2
}
