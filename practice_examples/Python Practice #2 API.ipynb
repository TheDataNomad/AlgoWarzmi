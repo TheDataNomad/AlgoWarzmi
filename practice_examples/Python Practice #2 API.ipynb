{
 "cells": [
  {
   "cell_type": "code",
   "execution_count": 28,
   "metadata": {},
   "outputs": [],
   "source": [
    "link = \"\"\"\n",
    "https://fred.stlouisfed.org/graph/fredgraph.csv\n",
    "?id=GDP\n",
    "\"\"\"\n",
    "# &fam=avg\n",
    "\n",
    "link = link.replace(\"\\n\",\"\")"
   ]
  },
  {
   "cell_type": "code",
   "execution_count": 29,
   "metadata": {},
   "outputs": [
    {
     "data": {
      "text/plain": [
       "'https://fred.stlouisfed.org/graph/fredgraph.csv?id=GDP'"
      ]
     },
     "execution_count": 29,
     "metadata": {},
     "output_type": "execute_result"
    }
   ],
   "source": [
    "link"
   ]
  },
  {
   "cell_type": "code",
   "execution_count": 24,
   "metadata": {},
   "outputs": [
    {
     "name": "stdout",
     "output_type": "stream",
     "text": [
      "https://fred.stlouisfed.org/graph/fredgraph.csv?bgcolor=%23ebf3fb\n",
      "chart_type=line\n",
      "drp=0\n",
      "fo=open%20sans\n",
      "graph_bgcolor=%23ffffff\n",
      "height=450\n",
      "mode=fred\n",
      "recession_bars=on\n",
      "txtcolor=%23444444\n",
      "ts=12\n",
      "tts=12\n",
      "width=1320\n",
      "nt=0\n",
      "thu=0\n",
      "trc=0\n",
      "show_legend=yes\n",
      "show_axis_titles=yes\n",
      "show_tooltip=yes\n",
      "id=GDP,SP500\n",
      "scale=left,left\n",
      "cosd=1947-01-01,2015-02-09\n",
      "coed=2024-10-01,2025-02-07\n",
      "line_color=%230073e6,%2310847c\n",
      "link_values=false,false\n",
      "line_style=solid,dot\n",
      "mark_type=none,none\n",
      "mw=3,3\n",
      "lw=3,3\n",
      "ost=-99999,-99999\n",
      "oet=99999,99999\n",
      "mma=0,0\n",
      "fml=a,a\n",
      "fq=Quarterly,Daily%2C%20Close\n",
      "fam=avg,avg\n",
      "fgst=lin,lin\n",
      "fgsnd=2020-02-01,2020-02-01\n",
      "line_index=1,2\n",
      "transformation=lin,lin\n",
      "vintage_date=2025-02-10,2025-02-10\n",
      "revision_date=2025-02-10,2025-02-10\n",
      "nd=1947-01-01,2015-02-09\n"
     ]
    }
   ],
   "source": [
    "url = \"\"\"https://fred.stlouisfed.org/graph/fredgraph.csv?bgcolor=%23ebf3fb&chart_type=line&drp=0&fo=open%20sans&graph_bgcolor=%23ffffff&height=450&mode=fred&recession_bars=on&txtcolor=%23444444&ts=12&tts=12&width=1320&nt=0&thu=0&trc=0&show_legend=yes&show_axis_titles=yes&show_tooltip=yes&id=GDP,SP500&scale=left,left&cosd=1947-01-01,2015-02-09&coed=2024-10-01,2025-02-07&line_color=%230073e6,%2310847c&link_values=false,false&line_style=solid,dot&mark_type=none,none&mw=3,3&lw=3,3&ost=-99999,-99999&oet=99999,99999&mma=0,0&fml=a,a&fq=Quarterly,Daily%2C%20Close&fam=avg,avg&fgst=lin,lin&fgsnd=2020-02-01,2020-02-01&line_index=1,2&transformation=lin,lin&vintage_date=2025-02-10,2025-02-10&revision_date=2025-02-10,2025-02-10&nd=1947-01-01,2015-02-09\"\"\"\n",
    "for x in url.split(\"&\"):\n",
    "    print(x)"
   ]
  },
  {
   "cell_type": "code",
   "execution_count": 23,
   "metadata": {},
   "outputs": [
    {
     "data": {
      "text/plain": [
       "True"
      ]
     },
     "execution_count": 23,
     "metadata": {},
     "output_type": "execute_result"
    }
   ],
   "source": [
    "import webbrowser\n",
    "\n",
    "webbrowser.open(url, new=0, autoraise=True)"
   ]
  },
  {
   "cell_type": "code",
   "execution_count": 20,
   "metadata": {},
   "outputs": [
    {
     "data": {
      "text/plain": [
       "True"
      ]
     },
     "execution_count": 20,
     "metadata": {},
     "output_type": "execute_result"
    }
   ],
   "source": [
    "x"
   ]
  },
  {
   "cell_type": "code",
   "execution_count": null,
   "metadata": {},
   "outputs": [],
   "source": []
  }
 ],
 "metadata": {
  "kernelspec": {
   "display_name": "Python 3",
   "language": "python",
   "name": "python3"
  },
  "language_info": {
   "codemirror_mode": {
    "name": "ipython",
    "version": 3
   },
   "file_extension": ".py",
   "mimetype": "text/x-python",
   "name": "python",
   "nbconvert_exporter": "python",
   "pygments_lexer": "ipython3",
   "version": "3.10.9"
  },
  "orig_nbformat": 4
 },
 "nbformat": 4,
 "nbformat_minor": 2
}
