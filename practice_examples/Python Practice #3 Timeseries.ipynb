{
 "cells": [
  {
   "cell_type": "code",
   "execution_count": 1,
   "metadata": {},
   "outputs": [],
   "source": [
    "###### START HERE \n",
    "import pandas as pd\n",
    "# !wget 'https://github.com/TheDataNomad/AlgoWarzmi/raw/refs/heads/main/datasets/Table 10.csv'\n",
    "# !wget 'https://github.com/TheDataNomad/AlgoWarzmi/raw/refs/heads/main/datasets/Table13.csv'"
   ]
  },
  {
   "cell_type": "code",
   "execution_count": 10,
   "metadata": {},
   "outputs": [],
   "source": [
    "df_table13 = pd.read_csv(r'/Users/ahmedmanji/Desktop/CBO_TEST/AlgoWarzmi/datasets/Table13.csv')\n",
    "df10 = pd.read_csv(r'/Users/ahmedmanji/Desktop/CBO_TEST/AlgoWarzmi/datasets/Table 10.csv')"
   ]
  },
  {
   "cell_type": "code",
   "execution_count": 17,
   "metadata": {},
   "outputs": [],
   "source": [
    "### Ensure that the date is in datetime dtype using the following and make it the index\n",
    "# only for table 10, for 13 you need a bit of data processing first....\n",
    "df10['Date'] = pd.to_datetime(df10[\"Date\"])\n",
    "df10.set_index('Date',inplace=True)"
   ]
  },
  {
   "cell_type": "code",
   "execution_count": 16,
   "metadata": {},
   "outputs": [
    {
     "name": "stdout",
     "output_type": "stream",
     "text": [
      "<class 'pandas.core.frame.DataFrame'>\n",
      "RangeIndex: 118 entries, 0 to 117\n",
      "Data columns (total 6 columns):\n",
      " #   Column                             Non-Null Count  Dtype         \n",
      "---  ------                             --------------  -----         \n",
      " 0   Currency Outside Commercial Banks  118 non-null    float64       \n",
      " 1   Demand Deposits                    118 non-null    float64       \n",
      " 2   Quasi Money                        118 non-null    float64       \n",
      " 3   Money Supply (M1)                  118 non-null    float64       \n",
      " 4   Money Supply (M2)                  118 non-null    float64       \n",
      " 5   Date                               118 non-null    datetime64[ns]\n",
      "dtypes: datetime64[ns](1), float64(5)\n",
      "memory usage: 5.7 KB\n"
     ]
    }
   ],
   "source": []
  },
  {
   "cell_type": "code",
   "execution_count": null,
   "metadata": {},
   "outputs": [],
   "source": []
  }
 ],
 "metadata": {
  "kernelspec": {
   "display_name": "Python 3",
   "language": "python",
   "name": "python3"
  },
  "language_info": {
   "codemirror_mode": {
    "name": "ipython",
    "version": 3
   },
   "file_extension": ".py",
   "mimetype": "text/x-python",
   "name": "python",
   "nbconvert_exporter": "python",
   "pygments_lexer": "ipython3",
   "version": "3.10.9"
  },
  "orig_nbformat": 4
 },
 "nbformat": 4,
 "nbformat_minor": 2
}
