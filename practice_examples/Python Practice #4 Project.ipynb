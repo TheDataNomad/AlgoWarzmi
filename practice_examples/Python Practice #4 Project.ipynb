{
 "cells": [
  {
   "cell_type": "markdown",
   "metadata": {},
   "source": [
    "# Final Project\n",
    "\n",
    "    1. Read the data from excel and clean it \n",
    "    2. Take only the monthly data and Clean for all the columns available  \n",
    "    3. Plot the following timeseries in one plot using plotly (Currency Outside Banks, Demand Deposit, Time&Saving Deposits)\n",
    "    4. Build a model to forecast \"Total Liabilities\" and get the best model based on two parameters: i.e. the best model that has the lowest RMSE and the model that has the lowest MAPE:\n",
    "        - You need two models \n",
    "\n",
    "\n",
    "\n",
    "## About the Data\n",
    "    This data is from the OpenData platform of SAMA containing historical data Monetary Survey:\n",
    "    The data is split into 3 parts - Yearly, Quarterly and Monthly- Our target is to get the monthly data\n",
    "    It contains different data points such Currency Outside Banks, Demand Deposits, Quasi Money in details, Total Liabilities and others.\n",
    "\n",
    "    Your end goal target is to extract the monthly data of Total Liabilities and build the best forecasting model\n",
    "\n",
    "\n",
    "## This will teach you:\n",
    "    1. How to read unstructured data and convert it into strutctured Format\n",
    "    2. Build visualizing to plot the trends and compare the data\n",
    "    3. Develop Forecasting models and automate the model training and development"
   ]
  },
  {
   "cell_type": "code",
   "execution_count": 1,
   "metadata": {},
   "outputs": [],
   "source": [
    "###### Uncomment Below to download the data \n",
    "!wget 'https://github.com/TheDataNomad/AlgoWarzmi/raw/refs/heads/main/datasets/SAMA_Table7.xlsx'"
   ]
  },
  {
   "cell_type": "code",
   "execution_count": null,
   "metadata": {},
   "outputs": [],
   "source": []
  }
 ],
 "metadata": {
  "kernelspec": {
   "display_name": "Python 3",
   "language": "python",
   "name": "python3"
  },
  "language_info": {
   "codemirror_mode": {
    "name": "ipython",
    "version": 3
   },
   "file_extension": ".py",
   "mimetype": "text/x-python",
   "name": "python",
   "nbconvert_exporter": "python",
   "pygments_lexer": "ipython3",
   "version": "3.10.9"
  },
  "orig_nbformat": 4
 },
 "nbformat": 4,
 "nbformat_minor": 2
}
